{
 "cells": [
  {
   "cell_type": "code",
   "execution_count": 1,
   "metadata": {},
   "outputs": [],
   "source": [
    "import pandas as pd"
   ]
  },
  {
   "cell_type": "code",
   "execution_count": 2,
   "metadata": {},
   "outputs": [],
   "source": [
    "sd_content = \"\"\n",
    "\n",
    "with open(\"data/all_subdomains_hsu-hh.de.txt\") as f:\n",
    "   sd_content = f.read()"
   ]
  },
  {
   "cell_type": "code",
   "execution_count": 3,
   "metadata": {},
   "outputs": [],
   "source": [
    "raw_col = []\n",
    "for line in sd_content.split(\"\\n\"):\n",
    "    temp_line = line.split(\" \")\n",
    "    domainname = temp_line[0]\n",
    "    try:\n",
    "        ips = temp_line[1]\n",
    "    except:\n",
    "        ips = \"\"\n",
    "    raw_col.append({\"domainname\":domainname,\n",
    "                    \"ips\":ips.split(\",\")})\n",
    "    \n",
    "df = pd.DataFrame(raw_col)"
   ]
  },
  {
   "cell_type": "code",
   "execution_count": 4,
   "metadata": {},
   "outputs": [
    {
     "data": {
      "text/html": [
       "<div>\n",
       "<style scoped>\n",
       "    .dataframe tbody tr th:only-of-type {\n",
       "        vertical-align: middle;\n",
       "    }\n",
       "\n",
       "    .dataframe tbody tr th {\n",
       "        vertical-align: top;\n",
       "    }\n",
       "\n",
       "    .dataframe thead th {\n",
       "        text-align: right;\n",
       "    }\n",
       "</style>\n",
       "<table border=\"1\" class=\"dataframe\">\n",
       "  <thead>\n",
       "    <tr style=\"text-align: right;\">\n",
       "      <th></th>\n",
       "      <th>domainname</th>\n",
       "      <th>ips</th>\n",
       "    </tr>\n",
       "  </thead>\n",
       "  <tbody>\n",
       "    <tr>\n",
       "      <th>0</th>\n",
       "      <td>autodiscover.hsu-hh.de</td>\n",
       "      <td>139.11.9.20</td>\n",
       "    </tr>\n",
       "    <tr>\n",
       "      <th>1</th>\n",
       "      <td>autoconfig.hsu-hh.de</td>\n",
       "      <td>139.11.6.20</td>\n",
       "    </tr>\n",
       "    <tr>\n",
       "      <th>2</th>\n",
       "      <td>fueak.hsu-hh.de</td>\n",
       "      <td>139.11.81.160</td>\n",
       "    </tr>\n",
       "    <tr>\n",
       "      <th>3</th>\n",
       "      <td>meetings.hsu-hh.de</td>\n",
       "      <td>139.11.11.50</td>\n",
       "    </tr>\n",
       "    <tr>\n",
       "      <th>4</th>\n",
       "      <td>campus.hsu-hh.de</td>\n",
       "      <td>139.11.9.55</td>\n",
       "    </tr>\n",
       "    <tr>\n",
       "      <th>...</th>\n",
       "      <td>...</td>\n",
       "      <td>...</td>\n",
       "    </tr>\n",
       "    <tr>\n",
       "      <th>409</th>\n",
       "      <td>wiki-jenkinsmail.ub.hsu-hh.de</td>\n",
       "      <td>23.217.138.108</td>\n",
       "    </tr>\n",
       "    <tr>\n",
       "      <th>410</th>\n",
       "      <td>wpgna.ub.hsu-hh.de</td>\n",
       "      <td>23.217.138.108</td>\n",
       "    </tr>\n",
       "    <tr>\n",
       "      <th>410</th>\n",
       "      <td>wpgna.ub.hsu-hh.de</td>\n",
       "      <td>23.202.231.167</td>\n",
       "    </tr>\n",
       "    <tr>\n",
       "      <th>411</th>\n",
       "      <td>ads2.library.hsu-hh.de</td>\n",
       "      <td>139.11.40.133</td>\n",
       "    </tr>\n",
       "    <tr>\n",
       "      <th>412</th>\n",
       "      <td></td>\n",
       "      <td></td>\n",
       "    </tr>\n",
       "  </tbody>\n",
       "</table>\n",
       "<p>480 rows × 2 columns</p>\n",
       "</div>"
      ],
      "text/plain": [
       "                        domainname             ips\n",
       "0           autodiscover.hsu-hh.de     139.11.9.20\n",
       "1             autoconfig.hsu-hh.de     139.11.6.20\n",
       "2                  fueak.hsu-hh.de   139.11.81.160\n",
       "3               meetings.hsu-hh.de    139.11.11.50\n",
       "4                 campus.hsu-hh.de     139.11.9.55\n",
       "..                             ...             ...\n",
       "409  wiki-jenkinsmail.ub.hsu-hh.de  23.217.138.108\n",
       "410             wpgna.ub.hsu-hh.de  23.217.138.108\n",
       "410             wpgna.ub.hsu-hh.de  23.202.231.167\n",
       "411         ads2.library.hsu-hh.de   139.11.40.133\n",
       "412                                               \n",
       "\n",
       "[480 rows x 2 columns]"
      ]
     },
     "execution_count": 4,
     "metadata": {},
     "output_type": "execute_result"
    }
   ],
   "source": [
    "df.explode(\"ips\")"
   ]
  },
  {
   "cell_type": "code",
   "execution_count": null,
   "metadata": {},
   "outputs": [],
   "source": []
  }
 ],
 "metadata": {
  "kernelspec": {
   "display_name": "Python 3",
   "language": "python",
   "name": "python3"
  },
  "language_info": {
   "codemirror_mode": {
    "name": "ipython",
    "version": 3
   },
   "file_extension": ".py",
   "mimetype": "text/x-python",
   "name": "python",
   "nbconvert_exporter": "python",
   "pygments_lexer": "ipython3",
   "version": "3.7.6"
  }
 },
 "nbformat": 4,
 "nbformat_minor": 4
}
