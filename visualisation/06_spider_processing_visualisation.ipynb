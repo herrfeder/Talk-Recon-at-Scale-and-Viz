{
 "cells": [
  {
   "cell_type": "markdown",
   "metadata": {},
   "source": [
    "# Crawling/Spidering Verarbeitung und Visualisierung"
   ]
  },
  {
   "cell_type": "code",
   "execution_count": 19,
   "metadata": {
    "ExecuteTime": {
     "end_time": "2021-06-30T04:37:33.672997Z",
     "start_time": "2021-06-30T04:37:32.657921Z"
    }
   },
   "outputs": [
    {
     "name": "stdout",
     "output_type": "stream",
     "text": [
      "The autoreload extension is already loaded. To reload it, use:\n",
      "  %reload_ext autoreload\n"
     ]
    }
   ],
   "source": [
    "%load_ext autoreload\n",
    "%autoreload\n",
    "import pandas as pd\n",
    "import json\n",
    "from itertools import chain\n",
    "pd.set_option('display.max_rows', 500)\n",
    "pd.set_option('display.width', 1000)\n",
    "pd.set_option('display.max_colwidth', 200)\n",
    "\n",
    "import plotly.express as px\n",
    "from helper import convert_curl_output\n",
    "\n",
    "from vis import draw\n",
    "from py2neo import Graph\n",
    "from py2neo import Node\n",
    "from py2neo import Relationship\n",
    "from helper import convert_curl_output\n",
    "from IPython.display import display, HTML"
   ]
  },
  {
   "cell_type": "markdown",
   "metadata": {},
   "source": [
    "## Vorverarbeitung der Crawling-Daten"
   ]
  },
  {
   "cell_type": "code",
   "execution_count": 20,
   "metadata": {
    "ExecuteTime": {
     "end_time": "2021-06-30T04:37:34.565971Z",
     "start_time": "2021-06-30T04:37:34.320921Z"
    }
   },
   "outputs": [
    {
     "data": {
      "text/html": [
       "<div>\n",
       "<style scoped>\n",
       "    .dataframe tbody tr th:only-of-type {\n",
       "        vertical-align: middle;\n",
       "    }\n",
       "\n",
       "    .dataframe tbody tr th {\n",
       "        vertical-align: top;\n",
       "    }\n",
       "\n",
       "    .dataframe thead th {\n",
       "        text-align: right;\n",
       "    }\n",
       "</style>\n",
       "<table border=\"1\" class=\"dataframe\">\n",
       "  <thead>\n",
       "    <tr style=\"text-align: right;\">\n",
       "      <th></th>\n",
       "      <th>http_response</th>\n",
       "      <th>source</th>\n",
       "      <th>url</th>\n",
       "      <th>redir_url</th>\n",
       "      <th>time_redir</th>\n",
       "      <th>num_redir</th>\n",
       "      <th>size_download</th>\n",
       "      <th>content_type</th>\n",
       "      <th>filename</th>\n",
       "    </tr>\n",
       "  </thead>\n",
       "  <tbody>\n",
       "    <tr>\n",
       "      <th>0</th>\n",
       "      <td>400</td>\n",
       "      <td>gospider</td>\n",
       "      <td>http://www.hsu-hh.de/wp-admin/admin-ajax.php</td>\n",
       "      <td>https://www.hsu-hh.de/wp-admin/admin-ajax.php</td>\n",
       "      <td>0.038817</td>\n",
       "      <td>1</td>\n",
       "      <td>1</td>\n",
       "      <td>text/html; charset=UTF-8</td>\n",
       "      <td>Zi7G5gWqlcmnJKXW</td>\n",
       "    </tr>\n",
       "    <tr>\n",
       "      <th>1</th>\n",
       "      <td>403</td>\n",
       "      <td>gospider</td>\n",
       "      <td>http://www.hsu-hh.de/wp-admin/</td>\n",
       "      <td>https://www.hsu-hh.de/wp-login.php?redirect_to=https%3A%2F%2Fwww.hsu-hh.de%2Fwp-admin%2F&amp;reauth=1</td>\n",
       "      <td>0.281866</td>\n",
       "      <td>2</td>\n",
       "      <td>199</td>\n",
       "      <td>text/html; charset=iso-8859-1</td>\n",
       "      <td>vVJY1Gvt7eJa0ZVh</td>\n",
       "    </tr>\n",
       "    <tr>\n",
       "      <th>2</th>\n",
       "      <td>400</td>\n",
       "      <td>gospider</td>\n",
       "      <td>http://www.hsu-hh.de/wp-admin/admin-ajax.php</td>\n",
       "      <td>https://www.hsu-hh.de/wp-admin/admin-ajax.php</td>\n",
       "      <td>0.037403</td>\n",
       "      <td>1</td>\n",
       "      <td>1</td>\n",
       "      <td>text/html; charset=UTF-8</td>\n",
       "      <td>OT3yMfsgrn6kGbQn</td>\n",
       "    </tr>\n",
       "    <tr>\n",
       "      <th>3</th>\n",
       "      <td>403</td>\n",
       "      <td>gospider</td>\n",
       "      <td>http://www.hsu-hh.de/wp-admin/</td>\n",
       "      <td>https://www.hsu-hh.de/wp-login.php?redirect_to=https%3A%2F%2Fwww.hsu-hh.de%2Fwp-admin%2F&amp;reauth=1</td>\n",
       "      <td>0.376770</td>\n",
       "      <td>2</td>\n",
       "      <td>199</td>\n",
       "      <td>text/html; charset=iso-8859-1</td>\n",
       "      <td>Ny1X3rFmgVyuK3Th</td>\n",
       "    </tr>\n",
       "    <tr>\n",
       "      <th>4</th>\n",
       "      <td>200</td>\n",
       "      <td>gau</td>\n",
       "      <td>http://hsu-hh.de:80/ant/index.php?brick_id=eNdFeyoutMvDDe7P&amp;action=login&amp;urltarget=http://www.hsu-hh.de/ant/index.php?brick_id%3DO4s0mY947QkZRCL7</td>\n",
       "      <td>https://www.hsu-hh.de/ant/?brick_id=eNdFeyoutMvDDe7P&amp;action=login&amp;urltarget=http%3A%2F%2Fwww.hsu-hh.de%2Fant%2Findex.php%3Fbrick_id%3DO4s0mY947QkZRCL7</td>\n",
       "      <td>0.357389</td>\n",
       "      <td>3</td>\n",
       "      <td>33106</td>\n",
       "      <td>text/html; charset=UTF-8</td>\n",
       "      <td>3Pn2jPlP9rxt2du8</td>\n",
       "    </tr>\n",
       "  </tbody>\n",
       "</table>\n",
       "</div>"
      ],
      "text/plain": [
       "  http_response    source                                                                                                                                                url                                                                                                                                               redir_url time_redir num_redir size_download                   content_type          filename\n",
       "0           400  gospider                                                                                                       http://www.hsu-hh.de/wp-admin/admin-ajax.php                                                                                                           https://www.hsu-hh.de/wp-admin/admin-ajax.php   0.038817         1             1       text/html; charset=UTF-8  Zi7G5gWqlcmnJKXW\n",
       "1           403  gospider                                                                                                                     http://www.hsu-hh.de/wp-admin/                                                       https://www.hsu-hh.de/wp-login.php?redirect_to=https%3A%2F%2Fwww.hsu-hh.de%2Fwp-admin%2F&reauth=1   0.281866         2           199  text/html; charset=iso-8859-1  vVJY1Gvt7eJa0ZVh\n",
       "2           400  gospider                                                                                                       http://www.hsu-hh.de/wp-admin/admin-ajax.php                                                                                                           https://www.hsu-hh.de/wp-admin/admin-ajax.php   0.037403         1             1       text/html; charset=UTF-8  OT3yMfsgrn6kGbQn\n",
       "3           403  gospider                                                                                                                     http://www.hsu-hh.de/wp-admin/                                                       https://www.hsu-hh.de/wp-login.php?redirect_to=https%3A%2F%2Fwww.hsu-hh.de%2Fwp-admin%2F&reauth=1   0.376770         2           199  text/html; charset=iso-8859-1  Ny1X3rFmgVyuK3Th\n",
       "4           200       gau  http://hsu-hh.de:80/ant/index.php?brick_id=eNdFeyoutMvDDe7P&action=login&urltarget=http://www.hsu-hh.de/ant/index.php?brick_id%3DO4s0mY947QkZRCL7  https://www.hsu-hh.de/ant/?brick_id=eNdFeyoutMvDDe7P&action=login&urltarget=http%3A%2F%2Fwww.hsu-hh.de%2Fant%2Findex.php%3Fbrick_id%3DO4s0mY947QkZRCL7   0.357389         3         33106       text/html; charset=UTF-8  3Pn2jPlP9rxt2du8"
      ]
     },
     "execution_count": 20,
     "metadata": {},
     "output_type": "execute_result"
    }
   ],
   "source": [
    "df = convert_curl_output(\"data/curl_html_resp\")\n",
    "df.head()"
   ]
  },
  {
   "cell_type": "markdown",
   "metadata": {},
   "source": [
    "## Gruppiertes Balkendiagramm zur Darstellung der Menge der HTTP-Responses über unterschiedliche Tools"
   ]
  },
  {
   "cell_type": "code",
   "execution_count": 21,
   "metadata": {},
   "outputs": [
    {
     "data": {
      "text/html": [
       "<div>\n",
       "<style scoped>\n",
       "    .dataframe tbody tr th:only-of-type {\n",
       "        vertical-align: middle;\n",
       "    }\n",
       "\n",
       "    .dataframe tbody tr th {\n",
       "        vertical-align: top;\n",
       "    }\n",
       "\n",
       "    .dataframe thead th {\n",
       "        text-align: right;\n",
       "    }\n",
       "</style>\n",
       "<table border=\"1\" class=\"dataframe\">\n",
       "  <thead>\n",
       "    <tr style=\"text-align: right;\">\n",
       "      <th></th>\n",
       "      <th>source</th>\n",
       "      <th>http_response</th>\n",
       "      <th>number_responses</th>\n",
       "    </tr>\n",
       "  </thead>\n",
       "  <tbody>\n",
       "    <tr>\n",
       "      <th>0</th>\n",
       "      <td>gau</td>\n",
       "      <td>200</td>\n",
       "      <td>24175</td>\n",
       "    </tr>\n",
       "    <tr>\n",
       "      <th>1</th>\n",
       "      <td>gau</td>\n",
       "      <td>404</td>\n",
       "      <td>16077</td>\n",
       "    </tr>\n",
       "    <tr>\n",
       "      <th>2</th>\n",
       "      <td>gau</td>\n",
       "      <td>410</td>\n",
       "      <td>2864</td>\n",
       "    </tr>\n",
       "    <tr>\n",
       "      <th>3</th>\n",
       "      <td>gau</td>\n",
       "      <td>000</td>\n",
       "      <td>175</td>\n",
       "    </tr>\n",
       "    <tr>\n",
       "      <th>4</th>\n",
       "      <td>gau</td>\n",
       "      <td>500</td>\n",
       "      <td>173</td>\n",
       "    </tr>\n",
       "    <tr>\n",
       "      <th>5</th>\n",
       "      <td>gau</td>\n",
       "      <td>301</td>\n",
       "      <td>163</td>\n",
       "    </tr>\n",
       "    <tr>\n",
       "      <th>6</th>\n",
       "      <td>gau</td>\n",
       "      <td>403</td>\n",
       "      <td>80</td>\n",
       "    </tr>\n",
       "    <tr>\n",
       "      <th>7</th>\n",
       "      <td>gau</td>\n",
       "      <td>400</td>\n",
       "      <td>2</td>\n",
       "    </tr>\n",
       "    <tr>\n",
       "      <th>8</th>\n",
       "      <td>gospider</td>\n",
       "      <td>200</td>\n",
       "      <td>34581</td>\n",
       "    </tr>\n",
       "    <tr>\n",
       "      <th>9</th>\n",
       "      <td>gospider</td>\n",
       "      <td>000</td>\n",
       "      <td>106</td>\n",
       "    </tr>\n",
       "    <tr>\n",
       "      <th>10</th>\n",
       "      <td>gospider</td>\n",
       "      <td>403</td>\n",
       "      <td>16</td>\n",
       "    </tr>\n",
       "    <tr>\n",
       "      <th>11</th>\n",
       "      <td>gospider</td>\n",
       "      <td>400</td>\n",
       "      <td>2</td>\n",
       "    </tr>\n",
       "    <tr>\n",
       "      <th>12</th>\n",
       "      <td>gospider</td>\n",
       "      <td>410</td>\n",
       "      <td>1</td>\n",
       "    </tr>\n",
       "    <tr>\n",
       "      <th>13</th>\n",
       "      <td>wayback</td>\n",
       "      <td>200</td>\n",
       "      <td>23393</td>\n",
       "    </tr>\n",
       "    <tr>\n",
       "      <th>14</th>\n",
       "      <td>wayback</td>\n",
       "      <td>404</td>\n",
       "      <td>16052</td>\n",
       "    </tr>\n",
       "    <tr>\n",
       "      <th>15</th>\n",
       "      <td>wayback</td>\n",
       "      <td>410</td>\n",
       "      <td>2872</td>\n",
       "    </tr>\n",
       "    <tr>\n",
       "      <th>16</th>\n",
       "      <td>wayback</td>\n",
       "      <td>301</td>\n",
       "      <td>219</td>\n",
       "    </tr>\n",
       "    <tr>\n",
       "      <th>17</th>\n",
       "      <td>wayback</td>\n",
       "      <td>000</td>\n",
       "      <td>214</td>\n",
       "    </tr>\n",
       "    <tr>\n",
       "      <th>18</th>\n",
       "      <td>wayback</td>\n",
       "      <td>500</td>\n",
       "      <td>182</td>\n",
       "    </tr>\n",
       "    <tr>\n",
       "      <th>19</th>\n",
       "      <td>wayback</td>\n",
       "      <td>403</td>\n",
       "      <td>87</td>\n",
       "    </tr>\n",
       "    <tr>\n",
       "      <th>20</th>\n",
       "      <td>wayback</td>\n",
       "      <td>400</td>\n",
       "      <td>2</td>\n",
       "    </tr>\n",
       "  </tbody>\n",
       "</table>\n",
       "</div>"
      ],
      "text/plain": [
       "      source http_response  number_responses\n",
       "0        gau           200             24175\n",
       "1        gau           404             16077\n",
       "2        gau           410              2864\n",
       "3        gau           000               175\n",
       "4        gau           500               173\n",
       "5        gau           301               163\n",
       "6        gau           403                80\n",
       "7        gau           400                 2\n",
       "8   gospider           200             34581\n",
       "9   gospider           000               106\n",
       "10  gospider           403                16\n",
       "11  gospider           400                 2\n",
       "12  gospider           410                 1\n",
       "13   wayback           200             23393\n",
       "14   wayback           404             16052\n",
       "15   wayback           410              2872\n",
       "16   wayback           301               219\n",
       "17   wayback           000               214\n",
       "18   wayback           500               182\n",
       "19   wayback           403                87\n",
       "20   wayback           400                 2"
      ]
     },
     "execution_count": 21,
     "metadata": {},
     "output_type": "execute_result"
    }
   ],
   "source": [
    "url_count = df.groupby(\"source\")[\"http_response\"].value_counts() #.unstack(fill_value=0).T\n",
    "url_count = url_count.to_frame()\n",
    "url_count = url_count.rename(columns={\"http_response\":\"number_responses\"}).reset_index()\n",
    "url_count"
   ]
  },
  {
   "cell_type": "code",
   "execution_count": 22,
   "metadata": {},
   "outputs": [
    {
     "data": {
      "application/vnd.plotly.v1+json": {
       "config": {
        "plotlyServerURL": "https://plot.ly"
       },
       "data": [
        {
         "alignmentgroup": "True",
         "hoverlabel": {
          "namelength": 0
         },
         "hovertemplate": "http_response=200<br>source=%{x}<br>number_responses=%{y}",
         "legendgroup": "200",
         "marker": {
          "color": "#636efa"
         },
         "name": "200",
         "offsetgroup": "200",
         "orientation": "v",
         "showlegend": true,
         "textposition": "auto",
         "type": "bar",
         "x": [
          "gau",
          "gospider",
          "wayback"
         ],
         "xaxis": "x",
         "y": [
          24175,
          34581,
          23393
         ],
         "yaxis": "y"
        },
        {
         "alignmentgroup": "True",
         "hoverlabel": {
          "namelength": 0
         },
         "hovertemplate": "http_response=404<br>source=%{x}<br>number_responses=%{y}",
         "legendgroup": "404",
         "marker": {
          "color": "#EF553B"
         },
         "name": "404",
         "offsetgroup": "404",
         "orientation": "v",
         "showlegend": true,
         "textposition": "auto",
         "type": "bar",
         "x": [
          "gau",
          "wayback"
         ],
         "xaxis": "x",
         "y": [
          16077,
          16052
         ],
         "yaxis": "y"
        },
        {
         "alignmentgroup": "True",
         "hoverlabel": {
          "namelength": 0
         },
         "hovertemplate": "http_response=410<br>source=%{x}<br>number_responses=%{y}",
         "legendgroup": "410",
         "marker": {
          "color": "#00cc96"
         },
         "name": "410",
         "offsetgroup": "410",
         "orientation": "v",
         "showlegend": true,
         "textposition": "auto",
         "type": "bar",
         "x": [
          "gau",
          "gospider",
          "wayback"
         ],
         "xaxis": "x",
         "y": [
          2864,
          1,
          2872
         ],
         "yaxis": "y"
        },
        {
         "alignmentgroup": "True",
         "hoverlabel": {
          "namelength": 0
         },
         "hovertemplate": "http_response=000<br>source=%{x}<br>number_responses=%{y}",
         "legendgroup": "000",
         "marker": {
          "color": "#ab63fa"
         },
         "name": "000",
         "offsetgroup": "000",
         "orientation": "v",
         "showlegend": true,
         "textposition": "auto",
         "type": "bar",
         "x": [
          "gau",
          "gospider",
          "wayback"
         ],
         "xaxis": "x",
         "y": [
          175,
          106,
          214
         ],
         "yaxis": "y"
        },
        {
         "alignmentgroup": "True",
         "hoverlabel": {
          "namelength": 0
         },
         "hovertemplate": "http_response=500<br>source=%{x}<br>number_responses=%{y}",
         "legendgroup": "500",
         "marker": {
          "color": "#FFA15A"
         },
         "name": "500",
         "offsetgroup": "500",
         "orientation": "v",
         "showlegend": true,
         "textposition": "auto",
         "type": "bar",
         "x": [
          "gau",
          "wayback"
         ],
         "xaxis": "x",
         "y": [
          173,
          182
         ],
         "yaxis": "y"
        },
        {
         "alignmentgroup": "True",
         "hoverlabel": {
          "namelength": 0
         },
         "hovertemplate": "http_response=301<br>source=%{x}<br>number_responses=%{y}",
         "legendgroup": "301",
         "marker": {
          "color": "#19d3f3"
         },
         "name": "301",
         "offsetgroup": "301",
         "orientation": "v",
         "showlegend": true,
         "textposition": "auto",
         "type": "bar",
         "x": [
          "gau",
          "wayback"
         ],
         "xaxis": "x",
         "y": [
          163,
          219
         ],
         "yaxis": "y"
        },
        {
         "alignmentgroup": "True",
         "hoverlabel": {
          "namelength": 0
         },
         "hovertemplate": "http_response=403<br>source=%{x}<br>number_responses=%{y}",
         "legendgroup": "403",
         "marker": {
          "color": "#FF6692"
         },
         "name": "403",
         "offsetgroup": "403",
         "orientation": "v",
         "showlegend": true,
         "textposition": "auto",
         "type": "bar",
         "x": [
          "gau",
          "gospider",
          "wayback"
         ],
         "xaxis": "x",
         "y": [
          80,
          16,
          87
         ],
         "yaxis": "y"
        },
        {
         "alignmentgroup": "True",
         "hoverlabel": {
          "namelength": 0
         },
         "hovertemplate": "http_response=400<br>source=%{x}<br>number_responses=%{y}",
         "legendgroup": "400",
         "marker": {
          "color": "#B6E880"
         },
         "name": "400",
         "offsetgroup": "400",
         "orientation": "v",
         "showlegend": true,
         "textposition": "auto",
         "type": "bar",
         "x": [
          "gau",
          "gospider",
          "wayback"
         ],
         "xaxis": "x",
         "y": [
          2,
          2,
          2
         ],
         "yaxis": "y"
        }
       ],
       "layout": {
        "autosize": true,
        "barmode": "group",
        "legend": {
         "title": {
          "text": "http_response"
         },
         "tracegroupgap": 0
        },
        "margin": {
         "t": 60
        },
        "template": {
         "data": {
          "bar": [
           {
            "error_x": {
             "color": "#2a3f5f"
            },
            "error_y": {
             "color": "#2a3f5f"
            },
            "marker": {
             "line": {
              "color": "#E5ECF6",
              "width": 0.5
             }
            },
            "type": "bar"
           }
          ],
          "barpolar": [
           {
            "marker": {
             "line": {
              "color": "#E5ECF6",
              "width": 0.5
             }
            },
            "type": "barpolar"
           }
          ],
          "carpet": [
           {
            "aaxis": {
             "endlinecolor": "#2a3f5f",
             "gridcolor": "white",
             "linecolor": "white",
             "minorgridcolor": "white",
             "startlinecolor": "#2a3f5f"
            },
            "baxis": {
             "endlinecolor": "#2a3f5f",
             "gridcolor": "white",
             "linecolor": "white",
             "minorgridcolor": "white",
             "startlinecolor": "#2a3f5f"
            },
            "type": "carpet"
           }
          ],
          "choropleth": [
           {
            "colorbar": {
             "outlinewidth": 0,
             "ticks": ""
            },
            "type": "choropleth"
           }
          ],
          "contour": [
           {
            "colorbar": {
             "outlinewidth": 0,
             "ticks": ""
            },
            "colorscale": [
             [
              0,
              "#0d0887"
             ],
             [
              0.1111111111111111,
              "#46039f"
             ],
             [
              0.2222222222222222,
              "#7201a8"
             ],
             [
              0.3333333333333333,
              "#9c179e"
             ],
             [
              0.4444444444444444,
              "#bd3786"
             ],
             [
              0.5555555555555556,
              "#d8576b"
             ],
             [
              0.6666666666666666,
              "#ed7953"
             ],
             [
              0.7777777777777778,
              "#fb9f3a"
             ],
             [
              0.8888888888888888,
              "#fdca26"
             ],
             [
              1,
              "#f0f921"
             ]
            ],
            "type": "contour"
           }
          ],
          "contourcarpet": [
           {
            "colorbar": {
             "outlinewidth": 0,
             "ticks": ""
            },
            "type": "contourcarpet"
           }
          ],
          "heatmap": [
           {
            "colorbar": {
             "outlinewidth": 0,
             "ticks": ""
            },
            "colorscale": [
             [
              0,
              "#0d0887"
             ],
             [
              0.1111111111111111,
              "#46039f"
             ],
             [
              0.2222222222222222,
              "#7201a8"
             ],
             [
              0.3333333333333333,
              "#9c179e"
             ],
             [
              0.4444444444444444,
              "#bd3786"
             ],
             [
              0.5555555555555556,
              "#d8576b"
             ],
             [
              0.6666666666666666,
              "#ed7953"
             ],
             [
              0.7777777777777778,
              "#fb9f3a"
             ],
             [
              0.8888888888888888,
              "#fdca26"
             ],
             [
              1,
              "#f0f921"
             ]
            ],
            "type": "heatmap"
           }
          ],
          "heatmapgl": [
           {
            "colorbar": {
             "outlinewidth": 0,
             "ticks": ""
            },
            "colorscale": [
             [
              0,
              "#0d0887"
             ],
             [
              0.1111111111111111,
              "#46039f"
             ],
             [
              0.2222222222222222,
              "#7201a8"
             ],
             [
              0.3333333333333333,
              "#9c179e"
             ],
             [
              0.4444444444444444,
              "#bd3786"
             ],
             [
              0.5555555555555556,
              "#d8576b"
             ],
             [
              0.6666666666666666,
              "#ed7953"
             ],
             [
              0.7777777777777778,
              "#fb9f3a"
             ],
             [
              0.8888888888888888,
              "#fdca26"
             ],
             [
              1,
              "#f0f921"
             ]
            ],
            "type": "heatmapgl"
           }
          ],
          "histogram": [
           {
            "marker": {
             "colorbar": {
              "outlinewidth": 0,
              "ticks": ""
             }
            },
            "type": "histogram"
           }
          ],
          "histogram2d": [
           {
            "colorbar": {
             "outlinewidth": 0,
             "ticks": ""
            },
            "colorscale": [
             [
              0,
              "#0d0887"
             ],
             [
              0.1111111111111111,
              "#46039f"
             ],
             [
              0.2222222222222222,
              "#7201a8"
             ],
             [
              0.3333333333333333,
              "#9c179e"
             ],
             [
              0.4444444444444444,
              "#bd3786"
             ],
             [
              0.5555555555555556,
              "#d8576b"
             ],
             [
              0.6666666666666666,
              "#ed7953"
             ],
             [
              0.7777777777777778,
              "#fb9f3a"
             ],
             [
              0.8888888888888888,
              "#fdca26"
             ],
             [
              1,
              "#f0f921"
             ]
            ],
            "type": "histogram2d"
           }
          ],
          "histogram2dcontour": [
           {
            "colorbar": {
             "outlinewidth": 0,
             "ticks": ""
            },
            "colorscale": [
             [
              0,
              "#0d0887"
             ],
             [
              0.1111111111111111,
              "#46039f"
             ],
             [
              0.2222222222222222,
              "#7201a8"
             ],
             [
              0.3333333333333333,
              "#9c179e"
             ],
             [
              0.4444444444444444,
              "#bd3786"
             ],
             [
              0.5555555555555556,
              "#d8576b"
             ],
             [
              0.6666666666666666,
              "#ed7953"
             ],
             [
              0.7777777777777778,
              "#fb9f3a"
             ],
             [
              0.8888888888888888,
              "#fdca26"
             ],
             [
              1,
              "#f0f921"
             ]
            ],
            "type": "histogram2dcontour"
           }
          ],
          "mesh3d": [
           {
            "colorbar": {
             "outlinewidth": 0,
             "ticks": ""
            },
            "type": "mesh3d"
           }
          ],
          "parcoords": [
           {
            "line": {
             "colorbar": {
              "outlinewidth": 0,
              "ticks": ""
             }
            },
            "type": "parcoords"
           }
          ],
          "pie": [
           {
            "automargin": true,
            "type": "pie"
           }
          ],
          "scatter": [
           {
            "marker": {
             "colorbar": {
              "outlinewidth": 0,
              "ticks": ""
             }
            },
            "type": "scatter"
           }
          ],
          "scatter3d": [
           {
            "line": {
             "colorbar": {
              "outlinewidth": 0,
              "ticks": ""
             }
            },
            "marker": {
             "colorbar": {
              "outlinewidth": 0,
              "ticks": ""
             }
            },
            "type": "scatter3d"
           }
          ],
          "scattercarpet": [
           {
            "marker": {
             "colorbar": {
              "outlinewidth": 0,
              "ticks": ""
             }
            },
            "type": "scattercarpet"
           }
          ],
          "scattergeo": [
           {
            "marker": {
             "colorbar": {
              "outlinewidth": 0,
              "ticks": ""
             }
            },
            "type": "scattergeo"
           }
          ],
          "scattergl": [
           {
            "marker": {
             "colorbar": {
              "outlinewidth": 0,
              "ticks": ""
             }
            },
            "type": "scattergl"
           }
          ],
          "scattermapbox": [
           {
            "marker": {
             "colorbar": {
              "outlinewidth": 0,
              "ticks": ""
             }
            },
            "type": "scattermapbox"
           }
          ],
          "scatterpolar": [
           {
            "marker": {
             "colorbar": {
              "outlinewidth": 0,
              "ticks": ""
             }
            },
            "type": "scatterpolar"
           }
          ],
          "scatterpolargl": [
           {
            "marker": {
             "colorbar": {
              "outlinewidth": 0,
              "ticks": ""
             }
            },
            "type": "scatterpolargl"
           }
          ],
          "scatterternary": [
           {
            "marker": {
             "colorbar": {
              "outlinewidth": 0,
              "ticks": ""
             }
            },
            "type": "scatterternary"
           }
          ],
          "surface": [
           {
            "colorbar": {
             "outlinewidth": 0,
             "ticks": ""
            },
            "colorscale": [
             [
              0,
              "#0d0887"
             ],
             [
              0.1111111111111111,
              "#46039f"
             ],
             [
              0.2222222222222222,
              "#7201a8"
             ],
             [
              0.3333333333333333,
              "#9c179e"
             ],
             [
              0.4444444444444444,
              "#bd3786"
             ],
             [
              0.5555555555555556,
              "#d8576b"
             ],
             [
              0.6666666666666666,
              "#ed7953"
             ],
             [
              0.7777777777777778,
              "#fb9f3a"
             ],
             [
              0.8888888888888888,
              "#fdca26"
             ],
             [
              1,
              "#f0f921"
             ]
            ],
            "type": "surface"
           }
          ],
          "table": [
           {
            "cells": {
             "fill": {
              "color": "#EBF0F8"
             },
             "line": {
              "color": "white"
             }
            },
            "header": {
             "fill": {
              "color": "#C8D4E3"
             },
             "line": {
              "color": "white"
             }
            },
            "type": "table"
           }
          ]
         },
         "layout": {
          "annotationdefaults": {
           "arrowcolor": "#2a3f5f",
           "arrowhead": 0,
           "arrowwidth": 1
          },
          "coloraxis": {
           "colorbar": {
            "outlinewidth": 0,
            "ticks": ""
           }
          },
          "colorscale": {
           "diverging": [
            [
             0,
             "#8e0152"
            ],
            [
             0.1,
             "#c51b7d"
            ],
            [
             0.2,
             "#de77ae"
            ],
            [
             0.3,
             "#f1b6da"
            ],
            [
             0.4,
             "#fde0ef"
            ],
            [
             0.5,
             "#f7f7f7"
            ],
            [
             0.6,
             "#e6f5d0"
            ],
            [
             0.7,
             "#b8e186"
            ],
            [
             0.8,
             "#7fbc41"
            ],
            [
             0.9,
             "#4d9221"
            ],
            [
             1,
             "#276419"
            ]
           ],
           "sequential": [
            [
             0,
             "#0d0887"
            ],
            [
             0.1111111111111111,
             "#46039f"
            ],
            [
             0.2222222222222222,
             "#7201a8"
            ],
            [
             0.3333333333333333,
             "#9c179e"
            ],
            [
             0.4444444444444444,
             "#bd3786"
            ],
            [
             0.5555555555555556,
             "#d8576b"
            ],
            [
             0.6666666666666666,
             "#ed7953"
            ],
            [
             0.7777777777777778,
             "#fb9f3a"
            ],
            [
             0.8888888888888888,
             "#fdca26"
            ],
            [
             1,
             "#f0f921"
            ]
           ],
           "sequentialminus": [
            [
             0,
             "#0d0887"
            ],
            [
             0.1111111111111111,
             "#46039f"
            ],
            [
             0.2222222222222222,
             "#7201a8"
            ],
            [
             0.3333333333333333,
             "#9c179e"
            ],
            [
             0.4444444444444444,
             "#bd3786"
            ],
            [
             0.5555555555555556,
             "#d8576b"
            ],
            [
             0.6666666666666666,
             "#ed7953"
            ],
            [
             0.7777777777777778,
             "#fb9f3a"
            ],
            [
             0.8888888888888888,
             "#fdca26"
            ],
            [
             1,
             "#f0f921"
            ]
           ]
          },
          "colorway": [
           "#636efa",
           "#EF553B",
           "#00cc96",
           "#ab63fa",
           "#FFA15A",
           "#19d3f3",
           "#FF6692",
           "#B6E880",
           "#FF97FF",
           "#FECB52"
          ],
          "font": {
           "color": "#2a3f5f"
          },
          "geo": {
           "bgcolor": "white",
           "lakecolor": "white",
           "landcolor": "#E5ECF6",
           "showlakes": true,
           "showland": true,
           "subunitcolor": "white"
          },
          "hoverlabel": {
           "align": "left"
          },
          "hovermode": "closest",
          "mapbox": {
           "style": "light"
          },
          "paper_bgcolor": "white",
          "plot_bgcolor": "#E5ECF6",
          "polar": {
           "angularaxis": {
            "gridcolor": "white",
            "linecolor": "white",
            "ticks": ""
           },
           "bgcolor": "#E5ECF6",
           "radialaxis": {
            "gridcolor": "white",
            "linecolor": "white",
            "ticks": ""
           }
          },
          "scene": {
           "xaxis": {
            "backgroundcolor": "#E5ECF6",
            "gridcolor": "white",
            "gridwidth": 2,
            "linecolor": "white",
            "showbackground": true,
            "ticks": "",
            "zerolinecolor": "white"
           },
           "yaxis": {
            "backgroundcolor": "#E5ECF6",
            "gridcolor": "white",
            "gridwidth": 2,
            "linecolor": "white",
            "showbackground": true,
            "ticks": "",
            "zerolinecolor": "white"
           },
           "zaxis": {
            "backgroundcolor": "#E5ECF6",
            "gridcolor": "white",
            "gridwidth": 2,
            "linecolor": "white",
            "showbackground": true,
            "ticks": "",
            "zerolinecolor": "white"
           }
          },
          "shapedefaults": {
           "line": {
            "color": "#2a3f5f"
           }
          },
          "ternary": {
           "aaxis": {
            "gridcolor": "white",
            "linecolor": "white",
            "ticks": ""
           },
           "baxis": {
            "gridcolor": "white",
            "linecolor": "white",
            "ticks": ""
           },
           "bgcolor": "#E5ECF6",
           "caxis": {
            "gridcolor": "white",
            "linecolor": "white",
            "ticks": ""
           }
          },
          "title": {
           "x": 0.05
          },
          "xaxis": {
           "automargin": true,
           "gridcolor": "white",
           "linecolor": "white",
           "ticks": "",
           "title": {
            "standoff": 15
           },
           "zerolinecolor": "white",
           "zerolinewidth": 2
          },
          "yaxis": {
           "automargin": true,
           "gridcolor": "white",
           "linecolor": "white",
           "ticks": "",
           "title": {
            "standoff": 15
           },
           "zerolinecolor": "white",
           "zerolinewidth": 2
          }
         }
        },
        "xaxis": {
         "anchor": "y",
         "autorange": true,
         "domain": [
          0,
          1
         ],
         "range": [
          -0.5,
          2.5
         ],
         "title": {
          "text": "source"
         },
         "type": "category"
        },
        "yaxis": {
         "anchor": "x",
         "autorange": true,
         "domain": [
          0,
          1
         ],
         "range": [
          0,
          36401.05263157895
         ],
         "title": {
          "text": "number_responses"
         },
         "type": "linear"
        }
       }
      },
      "image/png": "[encoded data removed]",
      "text/html": [
       "<div>\n",
       "        \n",
       "        \n",
       "            <div id=\"f368c037-decf-40f7-ad3c-e8e4e91860f6\" class=\"plotly-graph-div\" style=\"height:525px; width:100%;\"></div>\n",
       "            <script type=\"text/javascript\">\n",
       "                require([\"plotly\"], function(Plotly) {\n",
       "                    window.PLOTLYENV=window.PLOTLYENV || {};\n",
       "                    \n",
       "                if (document.getElementById(\"f368c037-decf-40f7-ad3c-e8e4e91860f6\")) {\n",
       "                    Plotly.newPlot(\n",
       "                        'f368c037-decf-40f7-ad3c-e8e4e91860f6',\n",
       "                        [{\"alignmentgroup\": \"True\", \"hoverlabel\": {\"namelength\": 0}, \"hovertemplate\": \"http_response=200<br>source=%{x}<br>number_responses=%{y}\", \"legendgroup\": \"200\", \"marker\": {\"color\": \"#636efa\"}, \"name\": \"200\", \"offsetgroup\": \"200\", \"orientation\": \"v\", \"showlegend\": true, \"textposition\": \"auto\", \"type\": \"bar\", \"x\": [\"gau\", \"gospider\", \"wayback\"], \"xaxis\": \"x\", \"y\": [24175, 34581, 23393], \"yaxis\": \"y\"}, {\"alignmentgroup\": \"True\", \"hoverlabel\": {\"namelength\": 0}, \"hovertemplate\": \"http_response=404<br>source=%{x}<br>number_responses=%{y}\", \"legendgroup\": \"404\", \"marker\": {\"color\": \"#EF553B\"}, \"name\": \"404\", \"offsetgroup\": \"404\", \"orientation\": \"v\", \"showlegend\": true, \"textposition\": \"auto\", \"type\": \"bar\", \"x\": [\"gau\", \"wayback\"], \"xaxis\": \"x\", \"y\": [16077, 16052], \"yaxis\": \"y\"}, {\"alignmentgroup\": \"True\", \"hoverlabel\": {\"namelength\": 0}, \"hovertemplate\": \"http_response=410<br>source=%{x}<br>number_responses=%{y}\", \"legendgroup\": \"410\", \"marker\": {\"color\": \"#00cc96\"}, \"name\": \"410\", \"offsetgroup\": \"410\", \"orientation\": \"v\", \"showlegend\": true, \"textposition\": \"auto\", \"type\": \"bar\", \"x\": [\"gau\", \"gospider\", \"wayback\"], \"xaxis\": \"x\", \"y\": [2864, 1, 2872], \"yaxis\": \"y\"}, {\"alignmentgroup\": \"True\", \"hoverlabel\": {\"namelength\": 0}, \"hovertemplate\": \"http_response=000<br>source=%{x}<br>number_responses=%{y}\", \"legendgroup\": \"000\", \"marker\": {\"color\": \"#ab63fa\"}, \"name\": \"000\", \"offsetgroup\": \"000\", \"orientation\": \"v\", \"showlegend\": true, \"textposition\": \"auto\", \"type\": \"bar\", \"x\": [\"gau\", \"gospider\", \"wayback\"], \"xaxis\": \"x\", \"y\": [175, 106, 214], \"yaxis\": \"y\"}, {\"alignmentgroup\": \"True\", \"hoverlabel\": {\"namelength\": 0}, \"hovertemplate\": \"http_response=500<br>source=%{x}<br>number_responses=%{y}\", \"legendgroup\": \"500\", \"marker\": {\"color\": \"#FFA15A\"}, \"name\": \"500\", \"offsetgroup\": \"500\", \"orientation\": \"v\", \"showlegend\": true, \"textposition\": \"auto\", \"type\": \"bar\", \"x\": [\"gau\", \"wayback\"], \"xaxis\": \"x\", \"y\": [173, 182], \"yaxis\": \"y\"}, {\"alignmentgroup\": \"True\", \"hoverlabel\": {\"namelength\": 0}, \"hovertemplate\": \"http_response=301<br>source=%{x}<br>number_responses=%{y}\", \"legendgroup\": \"301\", \"marker\": {\"color\": \"#19d3f3\"}, \"name\": \"301\", \"offsetgroup\": \"301\", \"orientation\": \"v\", \"showlegend\": true, \"textposition\": \"auto\", \"type\": \"bar\", \"x\": [\"gau\", \"wayback\"], \"xaxis\": \"x\", \"y\": [163, 219], \"yaxis\": \"y\"}, {\"alignmentgroup\": \"True\", \"hoverlabel\": {\"namelength\": 0}, \"hovertemplate\": \"http_response=403<br>source=%{x}<br>number_responses=%{y}\", \"legendgroup\": \"403\", \"marker\": {\"color\": \"#FF6692\"}, \"name\": \"403\", \"offsetgroup\": \"403\", \"orientation\": \"v\", \"showlegend\": true, \"textposition\": \"auto\", \"type\": \"bar\", \"x\": [\"gau\", \"gospider\", \"wayback\"], \"xaxis\": \"x\", \"y\": [80, 16, 87], \"yaxis\": \"y\"}, {\"alignmentgroup\": \"True\", \"hoverlabel\": {\"namelength\": 0}, \"hovertemplate\": \"http_response=400<br>source=%{x}<br>number_responses=%{y}\", \"legendgroup\": \"400\", \"marker\": {\"color\": \"#B6E880\"}, \"name\": \"400\", \"offsetgroup\": \"400\", \"orientation\": \"v\", \"showlegend\": true, \"textposition\": \"auto\", \"type\": \"bar\", \"x\": [\"gau\", \"gospider\", \"wayback\"], \"xaxis\": \"x\", \"y\": [2, 2, 2], \"yaxis\": \"y\"}],\n",
       "                        {\"barmode\": \"group\", \"legend\": {\"title\": {\"text\": \"http_response\"}, \"tracegroupgap\": 0}, \"margin\": {\"t\": 60}, \"template\": {\"data\": {\"bar\": [{\"error_x\": {\"color\": \"#2a3f5f\"}, \"error_y\": {\"color\": \"#2a3f5f\"}, \"marker\": {\"line\": {\"color\": \"#E5ECF6\", \"width\": 0.5}}, \"type\": \"bar\"}], \"barpolar\": [{\"marker\": {\"line\": {\"color\": \"#E5ECF6\", \"width\": 0.5}}, \"type\": \"barpolar\"}], \"carpet\": [{\"aaxis\": {\"endlinecolor\": \"#2a3f5f\", \"gridcolor\": \"white\", \"linecolor\": \"white\", \"minorgridcolor\": \"white\", \"startlinecolor\": \"#2a3f5f\"}, \"baxis\": {\"endlinecolor\": \"#2a3f5f\", \"gridcolor\": \"white\", \"linecolor\": \"white\", \"minorgridcolor\": \"white\", \"startlinecolor\": \"#2a3f5f\"}, \"type\": \"carpet\"}], \"choropleth\": [{\"colorbar\": {\"outlinewidth\": 0, \"ticks\": \"\"}, \"type\": \"choropleth\"}], \"contour\": [{\"colorbar\": {\"outlinewidth\": 0, \"ticks\": \"\"}, \"colorscale\": [[0.0, \"#0d0887\"], [0.1111111111111111, \"#46039f\"], [0.2222222222222222, \"#7201a8\"], [0.3333333333333333, \"#9c179e\"], [0.4444444444444444, \"#bd3786\"], [0.5555555555555556, \"#d8576b\"], [0.6666666666666666, \"#ed7953\"], [0.7777777777777778, \"#fb9f3a\"], [0.8888888888888888, \"#fdca26\"], [1.0, \"#f0f921\"]], \"type\": \"contour\"}], \"contourcarpet\": [{\"colorbar\": {\"outlinewidth\": 0, \"ticks\": \"\"}, \"type\": \"contourcarpet\"}], \"heatmap\": [{\"colorbar\": {\"outlinewidth\": 0, \"ticks\": \"\"}, \"colorscale\": [[0.0, \"#0d0887\"], [0.1111111111111111, \"#46039f\"], [0.2222222222222222, \"#7201a8\"], [0.3333333333333333, \"#9c179e\"], [0.4444444444444444, \"#bd3786\"], [0.5555555555555556, \"#d8576b\"], [0.6666666666666666, \"#ed7953\"], [0.7777777777777778, \"#fb9f3a\"], [0.8888888888888888, \"#fdca26\"], [1.0, \"#f0f921\"]], \"type\": \"heatmap\"}], \"heatmapgl\": [{\"colorbar\": {\"outlinewidth\": 0, \"ticks\": \"\"}, \"colorscale\": [[0.0, \"#0d0887\"], [0.1111111111111111, \"#46039f\"], [0.2222222222222222, \"#7201a8\"], [0.3333333333333333, \"#9c179e\"], [0.4444444444444444, \"#bd3786\"], [0.5555555555555556, \"#d8576b\"], [0.6666666666666666, \"#ed7953\"], [0.7777777777777778, \"#fb9f3a\"], [0.8888888888888888, \"#fdca26\"], [1.0, \"#f0f921\"]], \"type\": \"heatmapgl\"}], \"histogram\": [{\"marker\": {\"colorbar\": {\"outlinewidth\": 0, \"ticks\": \"\"}}, \"type\": \"histogram\"}], \"histogram2d\": [{\"colorbar\": {\"outlinewidth\": 0, \"ticks\": \"\"}, \"colorscale\": [[0.0, \"#0d0887\"], [0.1111111111111111, \"#46039f\"], [0.2222222222222222, \"#7201a8\"], [0.3333333333333333, \"#9c179e\"], [0.4444444444444444, \"#bd3786\"], [0.5555555555555556, \"#d8576b\"], [0.6666666666666666, \"#ed7953\"], [0.7777777777777778, \"#fb9f3a\"], [0.8888888888888888, \"#fdca26\"], [1.0, \"#f0f921\"]], \"type\": \"histogram2d\"}], \"histogram2dcontour\": [{\"colorbar\": {\"outlinewidth\": 0, \"ticks\": \"\"}, \"colorscale\": [[0.0, \"#0d0887\"], [0.1111111111111111, \"#46039f\"], [0.2222222222222222, \"#7201a8\"], [0.3333333333333333, \"#9c179e\"], [0.4444444444444444, \"#bd3786\"], [0.5555555555555556, \"#d8576b\"], [0.6666666666666666, \"#ed7953\"], [0.7777777777777778, \"#fb9f3a\"], [0.8888888888888888, \"#fdca26\"], [1.0, \"#f0f921\"]], \"type\": \"histogram2dcontour\"}], \"mesh3d\": [{\"colorbar\": {\"outlinewidth\": 0, \"ticks\": \"\"}, \"type\": \"mesh3d\"}], \"parcoords\": [{\"line\": {\"colorbar\": {\"outlinewidth\": 0, \"ticks\": \"\"}}, \"type\": \"parcoords\"}], \"pie\": [{\"automargin\": true, \"type\": \"pie\"}], \"scatter\": [{\"marker\": {\"colorbar\": {\"outlinewidth\": 0, \"ticks\": \"\"}}, \"type\": \"scatter\"}], \"scatter3d\": [{\"line\": {\"colorbar\": {\"outlinewidth\": 0, \"ticks\": \"\"}}, \"marker\": {\"colorbar\": {\"outlinewidth\": 0, \"ticks\": \"\"}}, \"type\": \"scatter3d\"}], \"scattercarpet\": [{\"marker\": {\"colorbar\": {\"outlinewidth\": 0, \"ticks\": \"\"}}, \"type\": \"scattercarpet\"}], \"scattergeo\": [{\"marker\": {\"colorbar\": {\"outlinewidth\": 0, \"ticks\": \"\"}}, \"type\": \"scattergeo\"}], \"scattergl\": [{\"marker\": {\"colorbar\": {\"outlinewidth\": 0, \"ticks\": \"\"}}, \"type\": \"scattergl\"}], \"scattermapbox\": [{\"marker\": {\"colorbar\": {\"outlinewidth\": 0, \"ticks\": \"\"}}, \"type\": \"scattermapbox\"}], \"scatterpolar\": [{\"marker\": {\"colorbar\": {\"outlinewidth\": 0, \"ticks\": \"\"}}, \"type\": \"scatterpolar\"}], \"scatterpolargl\": [{\"marker\": {\"colorbar\": {\"outlinewidth\": 0, \"ticks\": \"\"}}, \"type\": \"scatterpolargl\"}], \"scatterternary\": [{\"marker\": {\"colorbar\": {\"outlinewidth\": 0, \"ticks\": \"\"}}, \"type\": \"scatterternary\"}], \"surface\": [{\"colorbar\": {\"outlinewidth\": 0, \"ticks\": \"\"}, \"colorscale\": [[0.0, \"#0d0887\"], [0.1111111111111111, \"#46039f\"], [0.2222222222222222, \"#7201a8\"], [0.3333333333333333, \"#9c179e\"], [0.4444444444444444, \"#bd3786\"], [0.5555555555555556, \"#d8576b\"], [0.6666666666666666, \"#ed7953\"], [0.7777777777777778, \"#fb9f3a\"], [0.8888888888888888, \"#fdca26\"], [1.0, \"#f0f921\"]], \"type\": \"surface\"}], \"table\": [{\"cells\": {\"fill\": {\"color\": \"#EBF0F8\"}, \"line\": {\"color\": \"white\"}}, \"header\": {\"fill\": {\"color\": \"#C8D4E3\"}, \"line\": {\"color\": \"white\"}}, \"type\": \"table\"}]}, \"layout\": {\"annotationdefaults\": {\"arrowcolor\": \"#2a3f5f\", \"arrowhead\": 0, \"arrowwidth\": 1}, \"coloraxis\": {\"colorbar\": {\"outlinewidth\": 0, \"ticks\": \"\"}}, \"colorscale\": {\"diverging\": [[0, \"#8e0152\"], [0.1, \"#c51b7d\"], [0.2, \"#de77ae\"], [0.3, \"#f1b6da\"], [0.4, \"#fde0ef\"], [0.5, \"#f7f7f7\"], [0.6, \"#e6f5d0\"], [0.7, \"#b8e186\"], [0.8, \"#7fbc41\"], [0.9, \"#4d9221\"], [1, \"#276419\"]], \"sequential\": [[0.0, \"#0d0887\"], [0.1111111111111111, \"#46039f\"], [0.2222222222222222, \"#7201a8\"], [0.3333333333333333, \"#9c179e\"], [0.4444444444444444, \"#bd3786\"], [0.5555555555555556, \"#d8576b\"], [0.6666666666666666, \"#ed7953\"], [0.7777777777777778, \"#fb9f3a\"], [0.8888888888888888, \"#fdca26\"], [1.0, \"#f0f921\"]], \"sequentialminus\": [[0.0, \"#0d0887\"], [0.1111111111111111, \"#46039f\"], [0.2222222222222222, \"#7201a8\"], [0.3333333333333333, \"#9c179e\"], [0.4444444444444444, \"#bd3786\"], [0.5555555555555556, \"#d8576b\"], [0.6666666666666666, \"#ed7953\"], [0.7777777777777778, \"#fb9f3a\"], [0.8888888888888888, \"#fdca26\"], [1.0, \"#f0f921\"]]}, \"colorway\": [\"#636efa\", \"#EF553B\", \"#00cc96\", \"#ab63fa\", \"#FFA15A\", \"#19d3f3\", \"#FF6692\", \"#B6E880\", \"#FF97FF\", \"#FECB52\"], \"font\": {\"color\": \"#2a3f5f\"}, \"geo\": {\"bgcolor\": \"white\", \"lakecolor\": \"white\", \"landcolor\": \"#E5ECF6\", \"showlakes\": true, \"showland\": true, \"subunitcolor\": \"white\"}, \"hoverlabel\": {\"align\": \"left\"}, \"hovermode\": \"closest\", \"mapbox\": {\"style\": \"light\"}, \"paper_bgcolor\": \"white\", \"plot_bgcolor\": \"#E5ECF6\", \"polar\": {\"angularaxis\": {\"gridcolor\": \"white\", \"linecolor\": \"white\", \"ticks\": \"\"}, \"bgcolor\": \"#E5ECF6\", \"radialaxis\": {\"gridcolor\": \"white\", \"linecolor\": \"white\", \"ticks\": \"\"}}, \"scene\": {\"xaxis\": {\"backgroundcolor\": \"#E5ECF6\", \"gridcolor\": \"white\", \"gridwidth\": 2, \"linecolor\": \"white\", \"showbackground\": true, \"ticks\": \"\", \"zerolinecolor\": \"white\"}, \"yaxis\": {\"backgroundcolor\": \"#E5ECF6\", \"gridcolor\": \"white\", \"gridwidth\": 2, \"linecolor\": \"white\", \"showbackground\": true, \"ticks\": \"\", \"zerolinecolor\": \"white\"}, \"zaxis\": {\"backgroundcolor\": \"#E5ECF6\", \"gridcolor\": \"white\", \"gridwidth\": 2, \"linecolor\": \"white\", \"showbackground\": true, \"ticks\": \"\", \"zerolinecolor\": \"white\"}}, \"shapedefaults\": {\"line\": {\"color\": \"#2a3f5f\"}}, \"ternary\": {\"aaxis\": {\"gridcolor\": \"white\", \"linecolor\": \"white\", \"ticks\": \"\"}, \"baxis\": {\"gridcolor\": \"white\", \"linecolor\": \"white\", \"ticks\": \"\"}, \"bgcolor\": \"#E5ECF6\", \"caxis\": {\"gridcolor\": \"white\", \"linecolor\": \"white\", \"ticks\": \"\"}}, \"title\": {\"x\": 0.05}, \"xaxis\": {\"automargin\": true, \"gridcolor\": \"white\", \"linecolor\": \"white\", \"ticks\": \"\", \"title\": {\"standoff\": 15}, \"zerolinecolor\": \"white\", \"zerolinewidth\": 2}, \"yaxis\": {\"automargin\": true, \"gridcolor\": \"white\", \"linecolor\": \"white\", \"ticks\": \"\", \"title\": {\"standoff\": 15}, \"zerolinecolor\": \"white\", \"zerolinewidth\": 2}}}, \"xaxis\": {\"anchor\": \"y\", \"domain\": [0.0, 1.0], \"title\": {\"text\": \"source\"}}, \"yaxis\": {\"anchor\": \"x\", \"domain\": [0.0, 1.0], \"title\": {\"text\": \"number_responses\"}}},\n",
       "                        {\"responsive\": true}\n",
       "                    ).then(function(){\n",
       "                            \n",
       "var gd = document.getElementById('f368c037-decf-40f7-ad3c-e8e4e91860f6');\n",
       "var x = new MutationObserver(function (mutations, observer) {{\n",
       "        var display = window.getComputedStyle(gd).display;\n",
       "        if (!display || display === 'none') {{\n",
       "            console.log([gd, 'removed!']);\n",
       "            Plotly.purge(gd);\n",
       "            observer.disconnect();\n",
       "        }}\n",
       "}});\n",
       "\n",
       "// Listen for the removal of the full notebook cells\n",
       "var notebookContainer = gd.closest('#notebook-container');\n",
       "if (notebookContainer) {{\n",
       "    x.observe(notebookContainer, {childList: true});\n",
       "}}\n",
       "\n",
       "// Listen for the clearing of the current output cell\n",
       "var outputEl = gd.closest('.output');\n",
       "if (outputEl) {{\n",
       "    x.observe(outputEl, {childList: true});\n",
       "}}\n",
       "\n",
       "                        })\n",
       "                };\n",
       "                });\n",
       "            </script>\n",
       "        </div>"
      ]
     },
     "metadata": {},
     "output_type": "display_data"
    }
   ],
   "source": [
    "px.bar(url_count, x=\"source\", y=\"number_responses\", color=\"http_response\", barmode=\"group\")"
   ]
  },
  {
   "cell_type": "markdown",
   "metadata": {},
   "source": [
    "### Filterung anhand Pandas Filter-Interface"
   ]
  },
  {
   "cell_type": "code",
   "execution_count": 23,
   "metadata": {},
   "outputs": [
    {
     "data": {
      "text/html": [
       "<div>\n",
       "<style scoped>\n",
       "    .dataframe tbody tr th:only-of-type {\n",
       "        vertical-align: middle;\n",
       "    }\n",
       "\n",
       "    .dataframe tbody tr th {\n",
       "        vertical-align: top;\n",
       "    }\n",
       "\n",
       "    .dataframe thead th {\n",
       "        text-align: right;\n",
       "    }\n",
       "</style>\n",
       "<table border=\"1\" class=\"dataframe\">\n",
       "  <thead>\n",
       "    <tr style=\"text-align: right;\">\n",
       "      <th></th>\n",
       "      <th>http_response</th>\n",
       "      <th>source</th>\n",
       "      <th>url</th>\n",
       "      <th>redir_url</th>\n",
       "      <th>time_redir</th>\n",
       "      <th>num_redir</th>\n",
       "      <th>size_download</th>\n",
       "      <th>content_type</th>\n",
       "      <th>filename</th>\n",
       "    </tr>\n",
       "  </thead>\n",
       "  <tbody>\n",
       "    <tr>\n",
       "      <th>37808</th>\n",
       "      <td>200</td>\n",
       "      <td>wayback</td>\n",
       "      <td>http://hsu-hh.de:80/ant/index.php?brick_id=eNdFeyoutMvDDe7P&amp;action=login&amp;urltarget=http://www.hsu-hh.de/ant/index.php?brick_id%3DKd8FIeJbIjdSqN5I</td>\n",
       "      <td>https://www.hsu-hh.de/ant/?brick_id=eNdFeyoutMvDDe7P&amp;action=login&amp;urltarget=http%3A%2F%2Fwww.hsu-hh.de%2Fant%2Findex.php%3Fbrick_id%3DKd8FIeJbIjdSqN5I</td>\n",
       "      <td>0.382729</td>\n",
       "      <td>3</td>\n",
       "      <td>33106</td>\n",
       "      <td>text/html; charset=UTF-8</td>\n",
       "      <td>qCg3H1wuuACJzGBD</td>\n",
       "    </tr>\n",
       "    <tr>\n",
       "      <th>37809</th>\n",
       "      <td>200</td>\n",
       "      <td>wayback</td>\n",
       "      <td>http://hsu-hh.de:80/campusinfo/index.php?brick_id=eNdFeyoutMvDDe7P&amp;action=login&amp;urltarget=http://www.hsu-hh.de/campusinfo/index.php?brick_id%3DyqeeShFtHc3yUvM1</td>\n",
       "      <td>https://www.hsu-hh.de/campusinfo/?brick_id=eNdFeyoutMvDDe7P&amp;action=login&amp;urltarget=http%3A%2F%2Fwww.hsu-hh.de%2Fcampusinfo%2Findex.php%3Fbrick_id%3DyqeeShFtHc3yUvM1</td>\n",
       "      <td>0.420898</td>\n",
       "      <td>3</td>\n",
       "      <td>33642</td>\n",
       "      <td>text/html; charset=UTF-8</td>\n",
       "      <td>fPNIbIE0YXR6GRdN</td>\n",
       "    </tr>\n",
       "    <tr>\n",
       "      <th>37810</th>\n",
       "      <td>200</td>\n",
       "      <td>wayback</td>\n",
       "      <td>http://hsu-hh.de:80/ant/index.php?brick_id=eNdFeyoutMvDDe7P&amp;action=login&amp;urltarget=http://www.hsu-hh.de/ant/index.php?brick_id%3DkWR9lBCiyWad6ar5</td>\n",
       "      <td>https://www.hsu-hh.de/ant/?brick_id=eNdFeyoutMvDDe7P&amp;action=login&amp;urltarget=http%3A%2F%2Fwww.hsu-hh.de%2Fant%2Findex.php%3Fbrick_id%3DkWR9lBCiyWad6ar5</td>\n",
       "      <td>0.354006</td>\n",
       "      <td>3</td>\n",
       "      <td>33106</td>\n",
       "      <td>text/html; charset=UTF-8</td>\n",
       "      <td>iHiMMcaFHmx1RcNr</td>\n",
       "    </tr>\n",
       "    <tr>\n",
       "      <th>37811</th>\n",
       "      <td>200</td>\n",
       "      <td>wayback</td>\n",
       "      <td>http://hsu-hh.de:80/ant/index.php?brick_id=eNdFeyoutMvDDe7P&amp;action=login&amp;urltarget=http://www.hsu-hh.de/ant/index.php?brick_id%3DO4s0mY947QkZRCL7</td>\n",
       "      <td>https://www.hsu-hh.de/ant/?brick_id=eNdFeyoutMvDDe7P&amp;action=login&amp;urltarget=http%3A%2F%2Fwww.hsu-hh.de%2Fant%2Findex.php%3Fbrick_id%3DO4s0mY947QkZRCL7</td>\n",
       "      <td>0.366622</td>\n",
       "      <td>3</td>\n",
       "      <td>33106</td>\n",
       "      <td>text/html; charset=UTF-8</td>\n",
       "      <td>15Qz8fN2W2vR7hqm</td>\n",
       "    </tr>\n",
       "    <tr>\n",
       "      <th>37812</th>\n",
       "      <td>200</td>\n",
       "      <td>wayback</td>\n",
       "      <td>http://hsu-hh.de:80/diffpsych/index.php?brick_id=eNdFeyoutMvDDe7P&amp;action=login&amp;urltarget=http://www.hsu-hh.de/diffpsych/index.php?brick_id%3DGxPeQyrn5uiRN7L2</td>\n",
       "      <td>https://www.hsu-hh.de/diffpsych/?brick_id=eNdFeyoutMvDDe7P&amp;action=login&amp;urltarget=http%3A%2F%2Fwww.hsu-hh.de%2Fdiffpsych%2Findex.php%3Fbrick_id%3DGxPeQyrn5uiRN7L2</td>\n",
       "      <td>0.366421</td>\n",
       "      <td>3</td>\n",
       "      <td>39706</td>\n",
       "      <td>text/html; charset=UTF-8</td>\n",
       "      <td>XzNBHbAxwxf6y7ne</td>\n",
       "    </tr>\n",
       "    <tr>\n",
       "      <th>...</th>\n",
       "      <td>...</td>\n",
       "      <td>...</td>\n",
       "      <td>...</td>\n",
       "      <td>...</td>\n",
       "      <td>...</td>\n",
       "      <td>...</td>\n",
       "      <td>...</td>\n",
       "      <td>...</td>\n",
       "      <td>...</td>\n",
       "    </tr>\n",
       "    <tr>\n",
       "      <th>121417</th>\n",
       "      <td>200</td>\n",
       "      <td>wayback</td>\n",
       "      <td>https://www.hsu-hh.de/zw/en/central-workshop-electronic</td>\n",
       "      <td>https://www.hsu-hh.de/zw/en/central-workshop-electronic</td>\n",
       "      <td>0.000000</td>\n",
       "      <td>0</td>\n",
       "      <td>32586</td>\n",
       "      <td>text/html; charset=UTF-8</td>\n",
       "      <td>Wj9GNKsmLavmsUPs</td>\n",
       "    </tr>\n",
       "    <tr>\n",
       "      <th>121419</th>\n",
       "      <td>200</td>\n",
       "      <td>wayback</td>\n",
       "      <td>https://www.hsu-hh.de/zw/en/central-workshop-construction-cw-c</td>\n",
       "      <td>https://www.hsu-hh.de/zw/en/central-workshop-construction-cw-c</td>\n",
       "      <td>0.000000</td>\n",
       "      <td>0</td>\n",
       "      <td>35153</td>\n",
       "      <td>text/html; charset=UTF-8</td>\n",
       "      <td>eCVAGq3tXhpdM8rW</td>\n",
       "    </tr>\n",
       "    <tr>\n",
       "      <th>121420</th>\n",
       "      <td>200</td>\n",
       "      <td>wayback</td>\n",
       "      <td>https://www.hsu-hh.de/zw/en/central-workshop-mechanic-zw-m</td>\n",
       "      <td>https://www.hsu-hh.de/zw/en/central-workshop-mechanic-zw-m</td>\n",
       "      <td>0.000000</td>\n",
       "      <td>0</td>\n",
       "      <td>35328</td>\n",
       "      <td>text/html; charset=UTF-8</td>\n",
       "      <td>AmNlQt8K1EPN2jPb</td>\n",
       "    </tr>\n",
       "    <tr>\n",
       "      <th>121422</th>\n",
       "      <td>200</td>\n",
       "      <td>wayback</td>\n",
       "      <td>https://www.hsu-hh.de/zw/en/imprint</td>\n",
       "      <td>https://www.hsu-hh.de/zw/en/imprint</td>\n",
       "      <td>0.000000</td>\n",
       "      <td>0</td>\n",
       "      <td>33529</td>\n",
       "      <td>text/html; charset=UTF-8</td>\n",
       "      <td>6T3A9hdh3k97ghcX</td>\n",
       "    </tr>\n",
       "    <tr>\n",
       "      <th>121434</th>\n",
       "      <td>200</td>\n",
       "      <td>wayback</td>\n",
       "      <td>https://www.hsu-hh.de/zw/zentrale-werkstatt-konstruktion</td>\n",
       "      <td>https://www.hsu-hh.de/zw/zentrale-werkstatt-konstruktion</td>\n",
       "      <td>0.000000</td>\n",
       "      <td>0</td>\n",
       "      <td>34607</td>\n",
       "      <td>text/html; charset=UTF-8</td>\n",
       "      <td>IHy5bUR4BBjAGyVe</td>\n",
       "    </tr>\n",
       "  </tbody>\n",
       "</table>\n",
       "<p>22058 rows × 9 columns</p>\n",
       "</div>"
      ],
      "text/plain": [
       "       http_response   source                                                                                                                                                              url                                                                                                                                                             redir_url time_redir num_redir size_download              content_type          filename\n",
       "37808            200  wayback                http://hsu-hh.de:80/ant/index.php?brick_id=eNdFeyoutMvDDe7P&action=login&urltarget=http://www.hsu-hh.de/ant/index.php?brick_id%3DKd8FIeJbIjdSqN5I                https://www.hsu-hh.de/ant/?brick_id=eNdFeyoutMvDDe7P&action=login&urltarget=http%3A%2F%2Fwww.hsu-hh.de%2Fant%2Findex.php%3Fbrick_id%3DKd8FIeJbIjdSqN5I   0.382729         3         33106  text/html; charset=UTF-8  qCg3H1wuuACJzGBD\n",
       "37809            200  wayback  http://hsu-hh.de:80/campusinfo/index.php?brick_id=eNdFeyoutMvDDe7P&action=login&urltarget=http://www.hsu-hh.de/campusinfo/index.php?brick_id%3DyqeeShFtHc3yUvM1  https://www.hsu-hh.de/campusinfo/?brick_id=eNdFeyoutMvDDe7P&action=login&urltarget=http%3A%2F%2Fwww.hsu-hh.de%2Fcampusinfo%2Findex.php%3Fbrick_id%3DyqeeShFtHc3yUvM1   0.420898         3         33642  text/html; charset=UTF-8  fPNIbIE0YXR6GRdN\n",
       "37810            200  wayback                http://hsu-hh.de:80/ant/index.php?brick_id=eNdFeyoutMvDDe7P&action=login&urltarget=http://www.hsu-hh.de/ant/index.php?brick_id%3DkWR9lBCiyWad6ar5                https://www.hsu-hh.de/ant/?brick_id=eNdFeyoutMvDDe7P&action=login&urltarget=http%3A%2F%2Fwww.hsu-hh.de%2Fant%2Findex.php%3Fbrick_id%3DkWR9lBCiyWad6ar5   0.354006         3         33106  text/html; charset=UTF-8  iHiMMcaFHmx1RcNr\n",
       "37811            200  wayback                http://hsu-hh.de:80/ant/index.php?brick_id=eNdFeyoutMvDDe7P&action=login&urltarget=http://www.hsu-hh.de/ant/index.php?brick_id%3DO4s0mY947QkZRCL7                https://www.hsu-hh.de/ant/?brick_id=eNdFeyoutMvDDe7P&action=login&urltarget=http%3A%2F%2Fwww.hsu-hh.de%2Fant%2Findex.php%3Fbrick_id%3DO4s0mY947QkZRCL7   0.366622         3         33106  text/html; charset=UTF-8  15Qz8fN2W2vR7hqm\n",
       "37812            200  wayback    http://hsu-hh.de:80/diffpsych/index.php?brick_id=eNdFeyoutMvDDe7P&action=login&urltarget=http://www.hsu-hh.de/diffpsych/index.php?brick_id%3DGxPeQyrn5uiRN7L2    https://www.hsu-hh.de/diffpsych/?brick_id=eNdFeyoutMvDDe7P&action=login&urltarget=http%3A%2F%2Fwww.hsu-hh.de%2Fdiffpsych%2Findex.php%3Fbrick_id%3DGxPeQyrn5uiRN7L2   0.366421         3         39706  text/html; charset=UTF-8  XzNBHbAxwxf6y7ne\n",
       "...              ...      ...                                                                                                                                                              ...                                                                                                                                                                   ...        ...       ...           ...                       ...               ...\n",
       "121417           200  wayback                                                                                                          https://www.hsu-hh.de/zw/en/central-workshop-electronic                                                                                                               https://www.hsu-hh.de/zw/en/central-workshop-electronic   0.000000         0         32586  text/html; charset=UTF-8  Wj9GNKsmLavmsUPs\n",
       "121419           200  wayback                                                                                                   https://www.hsu-hh.de/zw/en/central-workshop-construction-cw-c                                                                                                        https://www.hsu-hh.de/zw/en/central-workshop-construction-cw-c   0.000000         0         35153  text/html; charset=UTF-8  eCVAGq3tXhpdM8rW\n",
       "121420           200  wayback                                                                                                       https://www.hsu-hh.de/zw/en/central-workshop-mechanic-zw-m                                                                                                            https://www.hsu-hh.de/zw/en/central-workshop-mechanic-zw-m   0.000000         0         35328  text/html; charset=UTF-8  AmNlQt8K1EPN2jPb\n",
       "121422           200  wayback                                                                                                                              https://www.hsu-hh.de/zw/en/imprint                                                                                                                                   https://www.hsu-hh.de/zw/en/imprint   0.000000         0         33529  text/html; charset=UTF-8  6T3A9hdh3k97ghcX\n",
       "121434           200  wayback                                                                                                         https://www.hsu-hh.de/zw/zentrale-werkstatt-konstruktion                                                                                                              https://www.hsu-hh.de/zw/zentrale-werkstatt-konstruktion   0.000000         0         34607  text/html; charset=UTF-8  IHy5bUR4BBjAGyVe\n",
       "\n",
       "[22058 rows x 9 columns]"
      ]
     },
     "execution_count": 23,
     "metadata": {},
     "output_type": "execute_result"
    }
   ],
   "source": [
    "df[(df[\"http_response\"] == \"200\") & (df[\"source\"] == \"wayback\") & (df[\"content_type\"] == \"text/html; charset=UTF-8\")]"
   ]
  },
  {
   "cell_type": "markdown",
   "metadata": {},
   "source": [
    "## Visualisierung der Crawling-Daten mit Graph "
   ]
  },
  {
   "cell_type": "markdown",
   "metadata": {},
   "source": [
    "### Vorbereitung der Daten -> Generierung Sitemap\n",
    "  * Code-snippets from https://github.com/Ayima/sitemap-visualization-tool/"
   ]
  },
  {
   "cell_type": "code",
   "execution_count": 24,
   "metadata": {},
   "outputs": [],
   "source": [
    "urls = df[\"url\"]\n",
    "http_resp = df[\"http_response\"]\n",
    "urls = df[df[\"source\"] == \"wayback\"][\"url\"]\n",
    "http_resp = df[df[\"source\"] == \"wayback\"][\"http_response\"]"
   ]
  },
  {
   "cell_type": "code",
   "execution_count": 25,
   "metadata": {},
   "outputs": [
    {
     "name": "stdout",
     "output_type": "stream",
     "text": [
      "(43021, 8)\n"
     ]
    },
    {
     "data": {
      "text/html": [
       "<div>\n",
       "<style scoped>\n",
       "    .dataframe tbody tr th:only-of-type {\n",
       "        vertical-align: middle;\n",
       "    }\n",
       "\n",
       "    .dataframe tbody tr th {\n",
       "        vertical-align: top;\n",
       "    }\n",
       "\n",
       "    .dataframe thead th {\n",
       "        text-align: right;\n",
       "    }\n",
       "</style>\n",
       "<table border=\"1\" class=\"dataframe\">\n",
       "  <thead>\n",
       "    <tr style=\"text-align: right;\">\n",
       "      <th></th>\n",
       "      <th>0</th>\n",
       "      <th>1</th>\n",
       "      <th>2</th>\n",
       "      <th>3</th>\n",
       "      <th>4</th>\n",
       "      <th>5</th>\n",
       "      <th>6</th>\n",
       "      <th>7</th>\n",
       "    </tr>\n",
       "  </thead>\n",
       "  <tbody>\n",
       "    <tr>\n",
       "      <th>0</th>\n",
       "      <td>www.hsu-hh.de</td>\n",
       "      <td>WWEB</td>\n",
       "      <td>index.php?brick_id%3DNU9hiSfpRTD0opGU</td>\n",
       "      <td></td>\n",
       "      <td></td>\n",
       "      <td></td>\n",
       "      <td></td>\n",
       "      <td></td>\n",
       "    </tr>\n",
       "    <tr>\n",
       "      <th>1</th>\n",
       "      <td>www.hsu-hh.de</td>\n",
       "      <td>WWEB</td>\n",
       "      <td>index.php?brick_id%3DTxXUoUp735WQiUBu</td>\n",
       "      <td></td>\n",
       "      <td></td>\n",
       "      <td></td>\n",
       "      <td></td>\n",
       "      <td></td>\n",
       "    </tr>\n",
       "    <tr>\n",
       "      <th>2</th>\n",
       "      <td>www.hsu-hh.de</td>\n",
       "      <td>WWEB</td>\n",
       "      <td>index.php?brick_id%3DitUl1Y0EI6FmH8sf</td>\n",
       "      <td></td>\n",
       "      <td></td>\n",
       "      <td></td>\n",
       "      <td></td>\n",
       "      <td></td>\n",
       "    </tr>\n",
       "    <tr>\n",
       "      <th>3</th>\n",
       "      <td>www.hsu-hh.de</td>\n",
       "      <td>adc</td>\n",
       "      <td>index.php?brick_id%3DL1mYD4ZdCU98JS1b</td>\n",
       "      <td></td>\n",
       "      <td></td>\n",
       "      <td></td>\n",
       "      <td></td>\n",
       "      <td></td>\n",
       "    </tr>\n",
       "    <tr>\n",
       "      <th>4</th>\n",
       "      <td>www.hsu-hh.de</td>\n",
       "      <td>ant</td>\n",
       "      <td>index.php?brick_id%3DKd8FIeJbIjdSqN5I</td>\n",
       "      <td></td>\n",
       "      <td></td>\n",
       "      <td></td>\n",
       "      <td></td>\n",
       "      <td></td>\n",
       "    </tr>\n",
       "  </tbody>\n",
       "</table>\n",
       "</div>"
      ],
      "text/plain": [
       "               0     1                                      2 3 4 5 6 7\n",
       "0  www.hsu-hh.de  WWEB  index.php?brick_id%3DNU9hiSfpRTD0opGU          \n",
       "1  www.hsu-hh.de  WWEB  index.php?brick_id%3DTxXUoUp735WQiUBu          \n",
       "2  www.hsu-hh.de  WWEB  index.php?brick_id%3DitUl1Y0EI6FmH8sf          \n",
       "3  www.hsu-hh.de   adc  index.php?brick_id%3DL1mYD4ZdCU98JS1b          \n",
       "4  www.hsu-hh.de   ant  index.php?brick_id%3DKd8FIeJbIjdSqN5I          "
      ]
     },
     "execution_count": 25,
     "metadata": {},
     "output_type": "execute_result"
    }
   ],
   "source": [
    "layers = 7\n",
    "\n",
    "# Store results in a dataframe\n",
    "sitemap_layers = pd.DataFrame()\n",
    "\n",
    "# Get base levels\n",
    "bases = pd.Series([url.split('//')[-1].split('/')[0] for url in urls])\n",
    "sitemap_layers[0] = bases\n",
    "\n",
    "for layer in range(1, layers+1):\n",
    "\n",
    "    page_layer = []\n",
    "    for url, base in zip(urls, bases):\n",
    "        try:\n",
    "            page_layer.append(url.split(base)[-1].split('/')[layer])\n",
    "        except:\n",
    "            # There is nothing that deep!\n",
    "            page_layer.append('')\n",
    "\n",
    "    sitemap_layers[layer] = page_layer\n",
    "\n",
    "print(sitemap_layers.shape)\n",
    "sitemap_layers.head()"
   ]
  },
  {
   "cell_type": "code",
   "execution_count": 26,
   "metadata": {},
   "outputs": [],
   "source": [
    "sitemap_layers[\"http_response\"] = http_resp"
   ]
  },
  {
   "cell_type": "code",
   "execution_count": 27,
   "metadata": {},
   "outputs": [],
   "source": [
    "sitemap_layers = sitemap_layers.groupby(list(range(0, layers+1)))[\"http_response\"].value_counts()\\\n",
    "    .to_frame()\\\n",
    "    .rename(columns={\"http_response\":\"number_response\"})\\\n",
    "    .reset_index()\\\n",
    "    .sort_values(\"number_response\", ascending=False)\\\n",
    "    .reset_index()\\\n",
    "    .drop(columns=[\"index\"])\n",
    "\n",
    "# Convert column names to string types and export\n",
    "sitemap_layers.columns = [str(col) for col in sitemap_layers.columns]"
   ]
  },
  {
   "cell_type": "code",
   "execution_count": 28,
   "metadata": {},
   "outputs": [],
   "source": [
    "sitemap_layers_cut = sitemap_layers[4:204].reset_index().drop(columns=[\"index\"])"
   ]
  },
  {
   "cell_type": "code",
   "execution_count": 29,
   "metadata": {},
   "outputs": [
    {
     "data": {
      "text/html": [
       "<div>\n",
       "<style scoped>\n",
       "    .dataframe tbody tr th:only-of-type {\n",
       "        vertical-align: middle;\n",
       "    }\n",
       "\n",
       "    .dataframe tbody tr th {\n",
       "        vertical-align: top;\n",
       "    }\n",
       "\n",
       "    .dataframe thead th {\n",
       "        text-align: right;\n",
       "    }\n",
       "</style>\n",
       "<table border=\"1\" class=\"dataframe\">\n",
       "  <thead>\n",
       "    <tr style=\"text-align: right;\">\n",
       "      <th></th>\n",
       "      <th>0</th>\n",
       "      <th>1</th>\n",
       "      <th>2</th>\n",
       "      <th>3</th>\n",
       "      <th>4</th>\n",
       "      <th>5</th>\n",
       "      <th>6</th>\n",
       "      <th>7</th>\n",
       "      <th>http_response</th>\n",
       "      <th>number_response</th>\n",
       "    </tr>\n",
       "  </thead>\n",
       "  <tbody>\n",
       "    <tr>\n",
       "      <th>0</th>\n",
       "      <td>www.hsu-hh.de</td>\n",
       "      <td>weiterbildung</td>\n",
       "      <td>wp-content</td>\n",
       "      <td>uploads</td>\n",
       "      <td>sites</td>\n",
       "      <td>780</td>\n",
       "      <td>2018</td>\n",
       "      <td>01</td>\n",
       "      <td>200</td>\n",
       "      <td>10</td>\n",
       "    </tr>\n",
       "    <tr>\n",
       "      <th>1</th>\n",
       "      <td>www.hsu-hh.de</td>\n",
       "      <td></td>\n",
       "      <td></td>\n",
       "      <td></td>\n",
       "      <td></td>\n",
       "      <td></td>\n",
       "      <td></td>\n",
       "      <td></td>\n",
       "      <td>404</td>\n",
       "      <td>7</td>\n",
       "    </tr>\n",
       "    <tr>\n",
       "      <th>2</th>\n",
       "      <td>www.hsu-hh.de</td>\n",
       "      <td>auslandsstud</td>\n",
       "      <td>wp-content</td>\n",
       "      <td>uploads</td>\n",
       "      <td>sites</td>\n",
       "      <td>767</td>\n",
       "      <td>2018</td>\n",
       "      <td>01</td>\n",
       "      <td>404</td>\n",
       "      <td>6</td>\n",
       "    </tr>\n",
       "    <tr>\n",
       "      <th>3</th>\n",
       "      <td>www.hsu-hh.de</td>\n",
       "      <td>weiterbildung</td>\n",
       "      <td>wp-content</td>\n",
       "      <td>uploads</td>\n",
       "      <td>sites</td>\n",
       "      <td>780</td>\n",
       "      <td>2019</td>\n",
       "      <td>08</td>\n",
       "      <td>200</td>\n",
       "      <td>5</td>\n",
       "    </tr>\n",
       "    <tr>\n",
       "      <th>4</th>\n",
       "      <td>www.hsu-hh.de</td>\n",
       "      <td>weiterbildung</td>\n",
       "      <td>wp-content</td>\n",
       "      <td>uploads</td>\n",
       "      <td>sites</td>\n",
       "      <td>780</td>\n",
       "      <td>2017</td>\n",
       "      <td>11</td>\n",
       "      <td>200</td>\n",
       "      <td>5</td>\n",
       "    </tr>\n",
       "  </tbody>\n",
       "</table>\n",
       "</div>"
      ],
      "text/plain": [
       "               0              1           2        3      4    5     6   7 http_response  number_response\n",
       "0  www.hsu-hh.de  weiterbildung  wp-content  uploads  sites  780  2018  01           200               10\n",
       "1  www.hsu-hh.de                                                                     404                7\n",
       "2  www.hsu-hh.de   auslandsstud  wp-content  uploads  sites  767  2018  01           404                6\n",
       "3  www.hsu-hh.de  weiterbildung  wp-content  uploads  sites  780  2019  08           200                5\n",
       "4  www.hsu-hh.de  weiterbildung  wp-content  uploads  sites  780  2017  11           200                5"
      ]
     },
     "execution_count": 29,
     "metadata": {},
     "output_type": "execute_result"
    }
   ],
   "source": [
    "sitemap_layers_cut.head()"
   ]
  },
  {
   "cell_type": "markdown",
   "metadata": {},
   "source": [
    "### Erzeugung des Graphs"
   ]
  },
  {
   "cell_type": "code",
   "execution_count": 30,
   "metadata": {},
   "outputs": [],
   "source": [
    "graph = Graph(\"http://172.17.0.1:7474/\", password=\"start123\")\n",
    "graph.delete_all()"
   ]
  },
  {
   "cell_type": "code",
   "execution_count": 31,
   "metadata": {},
   "outputs": [],
   "source": [
    "node_dict = {}\n",
    "\n",
    "for i in range(0,layers+1):\n",
    "    node_dict[str(i)] = {}\n",
    "    for index, value in sitemap_layers_cut[str(i)].iteritems():\n",
    "        if (value not in node_dict[str(i)].keys()) and value:\n",
    "            if (not sitemap_layers_cut.iloc[index, i+1]) or (i==layers):\n",
    "                node_response = sitemap_layers_cut.iloc[index,layers+1]\n",
    "                node_size = sitemap_layers_cut.iloc[index,layers+2]\n",
    "                node = Node(node_response, \n",
    "                            name=value, \n",
    "                            description=f'HTTP_TYPE:{node_response} NUMBER:{node_size}<br>{value}', \n",
    "                            label=str(node_size))\n",
    "            else:\n",
    "                node = Node(\"URL\", name=value, description=value)\n",
    "            graph.create(node)\n",
    "            node_dict[str(i)][value] = node\n",
    "            if i>0:\n",
    "                prev_val = sitemap_layers_cut.iloc[index, i-1]\n",
    "                rel = Relationship(node_dict[str(i)][value], \n",
    "                             \"belongs_to\",\n",
    "                             node_dict[str(i-1)][str(prev_val)])\n",
    "                graph.create(rel)"
   ]
  },
  {
   "cell_type": "code",
   "execution_count": 32,
   "metadata": {},
   "outputs": [
    {
     "data": {
      "text/html": [
       "\n",
       "        <iframe\n",
       "            width=\"100%\"\n",
       "            height=\"400\"\n",
       "            src=\"figure/graph-01637a32-0c41-4ef1-8a68-38f71b88760d.html\"\n",
       "            frameborder=\"0\"\n",
       "            allowfullscreen\n",
       "        ></iframe>\n",
       "        "
      ],
      "text/plain": [
       "<IPython.lib.display.IFrame at 0x7fd75bc92fd0>"
      ]
     },
     "execution_count": 32,
     "metadata": {},
     "output_type": "execute_result"
    }
   ],
   "source": [
    "output = draw(graph, physics=False, hierarchical=True, physics_model=\"hierarchicalRepulsion\")\n",
    "output[0][0]"
   ]
  },
  {
   "cell_type": "code",
   "execution_count": 33,
   "metadata": {},
   "outputs": [
    {
     "data": {
      "text/html": [
       "<a href=http://127.0.0.1:8080/files/Talk-Recon-at-Scale-and-Viz/visualisation/figure/graph-01637a32-0c41-4ef1-8a68-38f71b88760d.html> Click to download graph</a>"
      ],
      "text/plain": [
       "<IPython.core.display.HTML object>"
      ]
     },
     "metadata": {},
     "output_type": "display_data"
    }
   ],
   "source": [
    "display(HTML(f'<a href={output[0][1]}> Click to download graph</a>'))"
   ]
  },
  {
   "cell_type": "code",
   "execution_count": null,
   "metadata": {},
   "outputs": [],
   "source": []
  }
 ],
 "metadata": {
  "kernelspec": {
   "display_name": "Python 3",
   "language": "python",
   "name": "python3"
  },
  "language_info": {
   "codemirror_mode": {
    "name": "ipython",
    "version": 3
   },
   "file_extension": ".py",
   "mimetype": "text/x-python",
   "name": "python",
   "nbconvert_exporter": "python",
   "pygments_lexer": "ipython3",
   "version": "3.7.6"
  },
  "toc": {
   "base_numbering": 1,
   "nav_menu": {},
   "number_sections": false,
   "sideBar": true,
   "skip_h1_title": false,
   "title_cell": "Table of Contents",
   "title_sidebar": "Contents",
   "toc_cell": false,
   "toc_position": {},
   "toc_section_display": true,
   "toc_window_display": false
  }
 },
 "nbformat": 4,
 "nbformat_minor": 4
}
