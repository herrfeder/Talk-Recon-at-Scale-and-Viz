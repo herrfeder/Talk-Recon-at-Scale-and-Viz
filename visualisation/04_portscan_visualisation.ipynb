{
 "cells": [
  {
   "cell_type": "code",
   "execution_count": 56,
   "metadata": {
    "ExecuteTime": {
     "end_time": "2021-06-25T10:31:57.285742Z",
     "start_time": "2021-06-25T10:31:57.240284Z"
    }
   },
   "outputs": [
    {
     "name": "stdout",
     "output_type": "stream",
     "text": [
      "The autoreload extension is already loaded. To reload it, use:\n",
      "  %reload_ext autoreload\n"
     ]
    }
   ],
   "source": [
    "%load_ext autoreload\n",
    "%autoreload\n",
    "\n",
    "import pandas as pd\n",
    "from vis import draw\n",
    "from py2neo import Graph\n",
    "from py2neo import Node\n",
    "from py2neo import Relationship\n",
    "from helper import convert_nmap_xml, convert_subdomain\n",
    "import plotly.express as px\n",
    "from IPython.display import display, HTML"
   ]
  },
  {
   "cell_type": "markdown",
   "metadata": {},
   "source": [
    "## Preprocess Data"
   ]
  },
  {
   "cell_type": "code",
   "execution_count": 49,
   "metadata": {
    "ExecuteTime": {
     "end_time": "2021-06-25T09:33:07.615533Z",
     "start_time": "2021-06-25T09:33:07.567559Z"
    }
   },
   "outputs": [
    {
     "data": {
      "text/html": [
       "<div>\n",
       "<style scoped>\n",
       "    .dataframe tbody tr th:only-of-type {\n",
       "        vertical-align: middle;\n",
       "    }\n",
       "\n",
       "    .dataframe tbody tr th {\n",
       "        vertical-align: top;\n",
       "    }\n",
       "\n",
       "    .dataframe thead th {\n",
       "        text-align: right;\n",
       "    }\n",
       "</style>\n",
       "<table border=\"1\" class=\"dataframe\">\n",
       "  <thead>\n",
       "    <tr style=\"text-align: right;\">\n",
       "      <th></th>\n",
       "      <th>address</th>\n",
       "      <th>port</th>\n",
       "      <th>state</th>\n",
       "      <th>reason</th>\n",
       "      <th>reason_ttl</th>\n",
       "      <th>servicename</th>\n",
       "      <th>serviceproduct</th>\n",
       "      <th>serviceversion</th>\n",
       "      <th>serviceinfo</th>\n",
       "      <th>serviceconf</th>\n",
       "    </tr>\n",
       "  </thead>\n",
       "  <tbody>\n",
       "    <tr>\n",
       "      <th>0</th>\n",
       "      <td>139.11.5.11</td>\n",
       "      <td>53</td>\n",
       "      <td>open</td>\n",
       "      <td>syn-ack</td>\n",
       "      <td>58</td>\n",
       "      <td>domain</td>\n",
       "      <td>PowerDNS</td>\n",
       "      <td>None</td>\n",
       "      <td>None</td>\n",
       "      <td>10</td>\n",
       "    </tr>\n",
       "    <tr>\n",
       "      <th>1</th>\n",
       "      <td>139.11.5.12</td>\n",
       "      <td>53</td>\n",
       "      <td>open</td>\n",
       "      <td>syn-ack</td>\n",
       "      <td>58</td>\n",
       "      <td>domain</td>\n",
       "      <td>PowerDNS</td>\n",
       "      <td>None</td>\n",
       "      <td>None</td>\n",
       "      <td>10</td>\n",
       "    </tr>\n",
       "    <tr>\n",
       "      <th>2</th>\n",
       "      <td>139.11.5.13</td>\n",
       "      <td>53</td>\n",
       "      <td>open</td>\n",
       "      <td>syn-ack</td>\n",
       "      <td>58</td>\n",
       "      <td>domain</td>\n",
       "      <td>PowerDNS</td>\n",
       "      <td>None</td>\n",
       "      <td>None</td>\n",
       "      <td>10</td>\n",
       "    </tr>\n",
       "    <tr>\n",
       "      <th>3</th>\n",
       "      <td>139.11.5.22</td>\n",
       "      <td>25</td>\n",
       "      <td>open</td>\n",
       "      <td>syn-ack</td>\n",
       "      <td>58</td>\n",
       "      <td>nagios-nsca</td>\n",
       "      <td>Nagios NSCA</td>\n",
       "      <td>None</td>\n",
       "      <td>None</td>\n",
       "      <td>10</td>\n",
       "    </tr>\n",
       "    <tr>\n",
       "      <th>4</th>\n",
       "      <td>139.11.5.22</td>\n",
       "      <td>465</td>\n",
       "      <td>open</td>\n",
       "      <td>syn-ack</td>\n",
       "      <td>58</td>\n",
       "      <td>ssl</td>\n",
       "      <td>None</td>\n",
       "      <td>None</td>\n",
       "      <td>None</td>\n",
       "      <td>10</td>\n",
       "    </tr>\n",
       "  </tbody>\n",
       "</table>\n",
       "</div>"
      ],
      "text/plain": [
       "       address port state   reason reason_ttl  servicename serviceproduct  \\\n",
       "0  139.11.5.11   53  open  syn-ack         58       domain       PowerDNS   \n",
       "1  139.11.5.12   53  open  syn-ack         58       domain       PowerDNS   \n",
       "2  139.11.5.13   53  open  syn-ack         58       domain       PowerDNS   \n",
       "3  139.11.5.22   25  open  syn-ack         58  nagios-nsca    Nagios NSCA   \n",
       "4  139.11.5.22  465  open  syn-ack         58          ssl           None   \n",
       "\n",
       "  serviceversion serviceinfo serviceconf  \n",
       "0           None        None          10  \n",
       "1           None        None          10  \n",
       "2           None        None          10  \n",
       "3           None        None          10  \n",
       "4           None        None          10  "
      ]
     },
     "execution_count": 49,
     "metadata": {},
     "output_type": "execute_result"
    }
   ],
   "source": [
    "nmap_df = convert_nmap_xml(\"data/nmap.xml\")\n",
    "nmap_df.head()"
   ]
  },
  {
   "cell_type": "code",
   "execution_count": 50,
   "metadata": {
    "ExecuteTime": {
     "end_time": "2021-06-25T09:33:08.466619Z",
     "start_time": "2021-06-25T09:33:08.451479Z"
    }
   },
   "outputs": [
    {
     "data": {
      "text/plain": [
       "(190, 10)"
      ]
     },
     "execution_count": 50,
     "metadata": {},
     "output_type": "execute_result"
    }
   ],
   "source": [
    "nmap_df.shape"
   ]
  },
  {
   "cell_type": "code",
   "execution_count": 51,
   "metadata": {
    "ExecuteTime": {
     "end_time": "2021-06-25T09:33:09.232032Z",
     "start_time": "2021-06-25T09:33:09.220954Z"
    }
   },
   "outputs": [],
   "source": [
    "nmap_df[\"count\"] = 1"
   ]
  },
  {
   "cell_type": "code",
   "execution_count": 52,
   "metadata": {
    "ExecuteTime": {
     "end_time": "2021-06-25T09:33:11.550789Z",
     "start_time": "2021-06-25T09:33:11.533802Z"
    }
   },
   "outputs": [],
   "source": [
    "nmap_df[\"port\"] = nmap_df[\"port\"].astype(\"str\")"
   ]
  },
  {
   "cell_type": "code",
   "execution_count": 53,
   "metadata": {
    "ExecuteTime": {
     "end_time": "2021-06-25T09:33:13.524098Z",
     "start_time": "2021-06-25T09:33:13.505725Z"
    }
   },
   "outputs": [],
   "source": [
    "nmap_df.fillna(\"unknown\", inplace=True)"
   ]
  },
  {
   "cell_type": "markdown",
   "metadata": {},
   "source": [
    "# Diagram Servicename and Serviceproduct"
   ]
  },
  {
   "cell_type": "code",
   "execution_count": 57,
   "metadata": {
    "ExecuteTime": {
     "end_time": "2021-06-25T09:38:58.891853Z",
     "start_time": "2021-06-25T09:38:58.210738Z"
    }
   },
   "outputs": [
    {
     "data": {
      "application/vnd.plotly.v1+json": {
       "config": {
        "plotlyServerURL": "https://plot.ly"
       },
       "data": [
        {
         "alignmentgroup": "True",
         "hoverlabel": {
          "namelength": 0
         },
         "hovertemplate": "serviceproduct=PowerDNS<br>servicename=%{x}<br>count=%{y}",
         "legendgroup": "PowerDNS",
         "marker": {
          "color": "#636efa"
         },
         "name": "PowerDNS",
         "offsetgroup": "PowerDNS",
         "orientation": "v",
         "showlegend": true,
         "textposition": "auto",
         "type": "bar",
         "x": [
          "domain",
          "domain",
          "domain"
         ],
         "xaxis": "x",
         "y": [
          1,
          1,
          1
         ],
         "yaxis": "y"
        },
        {
         "alignmentgroup": "True",
         "hoverlabel": {
          "namelength": 0
         },
         "hovertemplate": "serviceproduct=Nagios NSCA<br>servicename=%{x}<br>count=%{y}",
         "legendgroup": "Nagios NSCA",
         "marker": {
          "color": "#EF553B"
         },
         "name": "Nagios NSCA",
         "offsetgroup": "Nagios NSCA",
         "orientation": "v",
         "showlegend": true,
         "textposition": "auto",
         "type": "bar",
         "x": [
          "nagios-nsca"
         ],
         "xaxis": "x",
         "y": [
          1
         ],
         "yaxis": "y"
        },
        {
         "alignmentgroup": "True",
         "hoverlabel": {
          "namelength": 0
         },
         "hovertemplate": "serviceproduct=unknown<br>servicename=%{x}<br>count=%{y}",
         "legendgroup": "unknown",
         "marker": {
          "color": "#00cc96"
         },
         "name": "unknown",
         "offsetgroup": "unknown",
         "orientation": "v",
         "showlegend": true,
         "textposition": "auto",
         "type": "bar",
         "x": [
          "ssl",
          "tcpwrapped",
          "ssl",
          "tcpwrapped",
          "ssl",
          "ssl",
          "ssl",
          "ssl",
          "ssl",
          "ssl",
          "ssl",
          "ssl",
          "ssl",
          "ssl",
          "ssl",
          "ssl",
          "ssl",
          "ssl",
          "ssl",
          "ssl",
          "rsf-1",
          "rsf-1",
          "servicetags",
          "gsql_trn",
          "status",
          "ttdbserverd",
          "rusersd",
          "unknown",
          "unknown",
          "servicetags",
          "gsql_trn",
          "status",
          "ssl",
          "ssl",
          "tcpwrapped",
          "ssl",
          "ssl",
          "ssl",
          "ssl",
          "ssl",
          "ssl",
          "ssl",
          "ssl",
          "ssl",
          "ssl",
          "ssl",
          "ssl",
          "stun",
          "tungsten-https",
          "ssl",
          "ssl",
          "ssl",
          "ssl",
          "ssl",
          "ssl",
          "ssl",
          "ssl",
          "ssl",
          "ssl",
          "imaps",
          "ssl",
          "scp-config",
          "ssl",
          "tcpwrapped",
          "ssl",
          "tcpwrapped",
          "ssl",
          "tcpwrapped",
          "onscreen",
          "unknown",
          "ssl",
          "ssl",
          "ssl",
          "ssl",
          "cleverdetect",
          "ssl",
          "ssl",
          "ssl",
          "ssl",
          "ssl"
         ],
         "xaxis": "x",
         "y": [
          1,
          1,
          1,
          1,
          1,
          1,
          1,
          1,
          1,
          1,
          1,
          1,
          1,
          1,
          1,
          1,
          1,
          1,
          1,
          1,
          1,
          1,
          1,
          1,
          1,
          1,
          1,
          1,
          1,
          1,
          1,
          1,
          1,
          1,
          1,
          1,
          1,
          1,
          1,
          1,
          1,
          1,
          1,
          1,
          1,
          1,
          1,
          1,
          1,
          1,
          1,
          1,
          1,
          1,
          1,
          1,
          1,
          1,
          1,
          1,
          1,
          1,
          1,
          1,
          1,
          1,
          1,
          1,
          1,
          1,
          1,
          1,
          1,
          1,
          1,
          1,
          1,
          1,
          1,
          1
         ],
         "yaxis": "y"
        },
        {
         "alignmentgroup": "True",
         "hoverlabel": {
          "namelength": 0
         },
         "hovertemplate": "serviceproduct=NLnet Labs NSD<br>servicename=%{x}<br>count=%{y}",
         "legendgroup": "NLnet Labs NSD",
         "marker": {
          "color": "#ab63fa"
         },
         "name": "NLnet Labs NSD",
         "offsetgroup": "NLnet Labs NSD",
         "orientation": "v",
         "showlegend": true,
         "textposition": "auto",
         "type": "bar",
         "x": [
          "domain",
          "domain",
          "domain",
          "domain"
         ],
         "xaxis": "x",
         "y": [
          1,
          1,
          1,
          1
         ],
         "yaxis": "y"
        },
        {
         "alignmentgroup": "True",
         "hoverlabel": {
          "namelength": 0
         },
         "hovertemplate": "serviceproduct=nginx<br>servicename=%{x}<br>count=%{y}",
         "legendgroup": "nginx",
         "marker": {
          "color": "#FFA15A"
         },
         "name": "nginx",
         "offsetgroup": "nginx",
         "orientation": "v",
         "showlegend": true,
         "textposition": "auto",
         "type": "bar",
         "x": [
          "http",
          "http",
          "http",
          "http",
          "http",
          "http",
          "http",
          "http",
          "http",
          "http",
          "http"
         ],
         "xaxis": "x",
         "y": [
          1,
          1,
          1,
          1,
          1,
          1,
          1,
          1,
          1,
          1,
          1
         ],
         "yaxis": "y"
        },
        {
         "alignmentgroup": "True",
         "hoverlabel": {
          "namelength": 0
         },
         "hovertemplate": "serviceproduct=Apache httpd<br>servicename=%{x}<br>count=%{y}",
         "legendgroup": "Apache httpd",
         "marker": {
          "color": "#19d3f3"
         },
         "name": "Apache httpd",
         "offsetgroup": "Apache httpd",
         "orientation": "v",
         "showlegend": true,
         "textposition": "auto",
         "type": "bar",
         "x": [
          "http",
          "http",
          "http",
          "http",
          "http",
          "http",
          "http",
          "http",
          "http",
          "http",
          "http",
          "http",
          "http",
          "http",
          "http",
          "http",
          "http",
          "http",
          "http",
          "http",
          "http",
          "http",
          "http",
          "http",
          "http",
          "ssl",
          "http",
          "http"
         ],
         "xaxis": "x",
         "y": [
          1,
          1,
          1,
          1,
          1,
          1,
          1,
          1,
          1,
          1,
          1,
          1,
          1,
          1,
          1,
          1,
          1,
          1,
          1,
          1,
          1,
          1,
          1,
          1,
          1,
          1,
          1,
          1
         ],
         "yaxis": "y"
        },
        {
         "alignmentgroup": "True",
         "hoverlabel": {
          "namelength": 0
         },
         "hovertemplate": "serviceproduct=Palo Alto GlobalProtect Gateway httpd<br>servicename=%{x}<br>count=%{y}",
         "legendgroup": "Palo Alto GlobalProtect Gateway httpd",
         "marker": {
          "color": "#FF6692"
         },
         "name": "Palo Alto GlobalProtect Gateway httpd",
         "offsetgroup": "Palo Alto GlobalProtect Gateway httpd",
         "orientation": "v",
         "showlegend": true,
         "textposition": "auto",
         "type": "bar",
         "x": [
          "http",
          "http",
          "http",
          "http",
          "http"
         ],
         "xaxis": "x",
         "y": [
          1,
          1,
          1,
          1,
          1
         ],
         "yaxis": "y"
        },
        {
         "alignmentgroup": "True",
         "hoverlabel": {
          "namelength": 0
         },
         "hovertemplate": "serviceproduct=OpenSSH<br>servicename=%{x}<br>count=%{y}",
         "legendgroup": "OpenSSH",
         "marker": {
          "color": "#B6E880"
         },
         "name": "OpenSSH",
         "offsetgroup": "OpenSSH",
         "orientation": "v",
         "showlegend": true,
         "textposition": "auto",
         "type": "bar",
         "x": [
          "ssh",
          "ssh",
          "ssh",
          "ssh",
          "ssh",
          "ssh",
          "ssh",
          "ssh",
          "ssh",
          "ssh",
          "ssh",
          "ssh",
          "ssh",
          "ssh",
          "ssh",
          "ssh",
          "ssh",
          "ssh",
          "ssh",
          "ssh",
          "ssh",
          "ssh",
          "ssh",
          "ssh",
          "ssh",
          "ssh"
         ],
         "xaxis": "x",
         "y": [
          1,
          1,
          1,
          1,
          1,
          1,
          1,
          1,
          1,
          1,
          1,
          1,
          1,
          1,
          1,
          1,
          1,
          1,
          1,
          1,
          1,
          1,
          1,
          1,
          1,
          1
         ],
         "yaxis": "y"
        },
        {
         "alignmentgroup": "True",
         "hoverlabel": {
          "namelength": 0
         },
         "hovertemplate": "serviceproduct=Sun Solaris fs.auto<br>servicename=%{x}<br>count=%{y}",
         "legendgroup": "Sun Solaris fs.auto",
         "marker": {
          "color": "#FF97FF"
         },
         "name": "Sun Solaris fs.auto",
         "offsetgroup": "Sun Solaris fs.auto",
         "orientation": "v",
         "showlegend": true,
         "textposition": "auto",
         "type": "bar",
         "x": [
          "font-service"
         ],
         "xaxis": "x",
         "y": [
          1
         ],
         "yaxis": "y"
        },
        {
         "alignmentgroup": "True",
         "hoverlabel": {
          "namelength": 0
         },
         "hovertemplate": "serviceproduct=CUPS<br>servicename=%{x}<br>count=%{y}",
         "legendgroup": "CUPS",
         "marker": {
          "color": "#FECB52"
         },
         "name": "CUPS",
         "offsetgroup": "CUPS",
         "orientation": "v",
         "showlegend": true,
         "textposition": "auto",
         "type": "bar",
         "x": [
          "ipp"
         ],
         "xaxis": "x",
         "y": [
          1
         ],
         "yaxis": "y"
        },
        {
         "alignmentgroup": "True",
         "hoverlabel": {
          "namelength": 0
         },
         "hovertemplate": "serviceproduct=Microsoft Windows Active Directory LDAP<br>servicename=%{x}<br>count=%{y}",
         "legendgroup": "Microsoft Windows Active Directory LDAP",
         "marker": {
          "color": "#636efa"
         },
         "name": "Microsoft Windows Active Directory LDAP",
         "offsetgroup": "Microsoft Windows Active Directory LDAP",
         "orientation": "v",
         "showlegend": true,
         "textposition": "auto",
         "type": "bar",
         "x": [
          "ldap",
          "ldap"
         ],
         "xaxis": "x",
         "y": [
          1,
          1
         ],
         "yaxis": "y"
        },
        {
         "alignmentgroup": "True",
         "hoverlabel": {
          "namelength": 0
         },
         "hovertemplate": "serviceproduct=.NET Message Framing<br>servicename=%{x}<br>count=%{y}",
         "legendgroup": ".NET Message Framing",
         "marker": {
          "color": "#EF553B"
         },
         "name": ".NET Message Framing",
         "offsetgroup": ".NET Message Framing",
         "orientation": "v",
         "showlegend": true,
         "textposition": "auto",
         "type": "bar",
         "x": [
          "mc-nmf",
          "mc-nmf"
         ],
         "xaxis": "x",
         "y": [
          1,
          1
         ],
         "yaxis": "y"
        },
        {
         "alignmentgroup": "True",
         "hoverlabel": {
          "namelength": 0
         },
         "hovertemplate": "serviceproduct=Microsoft Windows RPC<br>servicename=%{x}<br>count=%{y}",
         "legendgroup": "Microsoft Windows RPC",
         "marker": {
          "color": "#00cc96"
         },
         "name": "Microsoft Windows RPC",
         "offsetgroup": "Microsoft Windows RPC",
         "orientation": "v",
         "showlegend": true,
         "textposition": "auto",
         "type": "bar",
         "x": [
          "msrpc",
          "msrpc",
          "msrpc",
          "msrpc",
          "msrpc",
          "msrpc",
          "msrpc",
          "msrpc",
          "msrpc",
          "msrpc",
          "msrpc",
          "msrpc"
         ],
         "xaxis": "x",
         "y": [
          1,
          1,
          1,
          1,
          1,
          1,
          1,
          1,
          1,
          1,
          1,
          1
         ],
         "yaxis": "y"
        },
        {
         "alignmentgroup": "True",
         "hoverlabel": {
          "namelength": 0
         },
         "hovertemplate": "serviceproduct=Microsoft Windows RPC over HTTP<br>servicename=%{x}<br>count=%{y}",
         "legendgroup": "Microsoft Windows RPC over HTTP",
         "marker": {
          "color": "#ab63fa"
         },
         "name": "Microsoft Windows RPC over HTTP",
         "offsetgroup": "Microsoft Windows RPC over HTTP",
         "orientation": "v",
         "showlegend": true,
         "textposition": "auto",
         "type": "bar",
         "x": [
          "ncacn_http",
          "ncacn_http"
         ],
         "xaxis": "x",
         "y": [
          1,
          1
         ],
         "yaxis": "y"
        },
        {
         "alignmentgroup": "True",
         "hoverlabel": {
          "namelength": 0
         },
         "hovertemplate": "serviceproduct=OpenSSL<br>servicename=%{x}<br>count=%{y}",
         "legendgroup": "OpenSSL",
         "marker": {
          "color": "#FFA15A"
         },
         "name": "OpenSSL",
         "offsetgroup": "OpenSSL",
         "orientation": "v",
         "showlegend": true,
         "textposition": "auto",
         "type": "bar",
         "x": [
          "ssl"
         ],
         "xaxis": "x",
         "y": [
          1
         ],
         "yaxis": "y"
        },
        {
         "alignmentgroup": "True",
         "hoverlabel": {
          "namelength": 0
         },
         "hovertemplate": "serviceproduct=xrdp<br>servicename=%{x}<br>count=%{y}",
         "legendgroup": "xrdp",
         "marker": {
          "color": "#19d3f3"
         },
         "name": "xrdp",
         "offsetgroup": "xrdp",
         "orientation": "v",
         "showlegend": true,
         "textposition": "auto",
         "type": "bar",
         "x": [
          "ms-wbt-server"
         ],
         "xaxis": "x",
         "y": [
          1
         ],
         "yaxis": "y"
        },
        {
         "alignmentgroup": "True",
         "hoverlabel": {
          "namelength": 0
         },
         "hovertemplate": "serviceproduct=Apache Mina sshd<br>servicename=%{x}<br>count=%{y}",
         "legendgroup": "Apache Mina sshd",
         "marker": {
          "color": "#FF6692"
         },
         "name": "Apache Mina sshd",
         "offsetgroup": "Apache Mina sshd",
         "orientation": "v",
         "showlegend": true,
         "textposition": "auto",
         "type": "bar",
         "x": [
          "ssh"
         ],
         "xaxis": "x",
         "y": [
          1
         ],
         "yaxis": "y"
        },
        {
         "alignmentgroup": "True",
         "hoverlabel": {
          "namelength": 0
         },
         "hovertemplate": "serviceproduct=vsftpd<br>servicename=%{x}<br>count=%{y}",
         "legendgroup": "vsftpd",
         "marker": {
          "color": "#B6E880"
         },
         "name": "vsftpd",
         "offsetgroup": "vsftpd",
         "orientation": "v",
         "showlegend": true,
         "textposition": "auto",
         "type": "bar",
         "x": [
          "ftp"
         ],
         "xaxis": "x",
         "y": [
          1
         ],
         "yaxis": "y"
        },
        {
         "alignmentgroup": "True",
         "hoverlabel": {
          "namelength": 0
         },
         "hovertemplate": "serviceproduct=ProFTPD<br>servicename=%{x}<br>count=%{y}",
         "legendgroup": "ProFTPD",
         "marker": {
          "color": "#FF97FF"
         },
         "name": "ProFTPD",
         "offsetgroup": "ProFTPD",
         "orientation": "v",
         "showlegend": true,
         "textposition": "auto",
         "type": "bar",
         "x": [
          "ftp"
         ],
         "xaxis": "x",
         "y": [
          1
         ],
         "yaxis": "y"
        },
        {
         "alignmentgroup": "True",
         "hoverlabel": {
          "namelength": 0
         },
         "hovertemplate": "serviceproduct=Microsoft IIS httpd<br>servicename=%{x}<br>count=%{y}",
         "legendgroup": "Microsoft IIS httpd",
         "marker": {
          "color": "#FECB52"
         },
         "name": "Microsoft IIS httpd",
         "offsetgroup": "Microsoft IIS httpd",
         "orientation": "v",
         "showlegend": true,
         "textposition": "auto",
         "type": "bar",
         "x": [
          "http",
          "http",
          "http"
         ],
         "xaxis": "x",
         "y": [
          1,
          1,
          1
         ],
         "yaxis": "y"
        },
        {
         "alignmentgroup": "True",
         "hoverlabel": {
          "namelength": 0
         },
         "hovertemplate": "serviceproduct=Jetty<br>servicename=%{x}<br>count=%{y}",
         "legendgroup": "Jetty",
         "marker": {
          "color": "#636efa"
         },
         "name": "Jetty",
         "offsetgroup": "Jetty",
         "orientation": "v",
         "showlegend": true,
         "textposition": "auto",
         "type": "bar",
         "x": [
          "http"
         ],
         "xaxis": "x",
         "y": [
          1
         ],
         "yaxis": "y"
        },
        {
         "alignmentgroup": "True",
         "hoverlabel": {
          "namelength": 0
         },
         "hovertemplate": "serviceproduct=Apache Tomcat/Coyote JSP engine<br>servicename=%{x}<br>count=%{y}",
         "legendgroup": "Apache Tomcat/Coyote JSP engine",
         "marker": {
          "color": "#EF553B"
         },
         "name": "Apache Tomcat/Coyote JSP engine",
         "offsetgroup": "Apache Tomcat/Coyote JSP engine",
         "orientation": "v",
         "showlegend": true,
         "textposition": "auto",
         "type": "bar",
         "x": [
          "http"
         ],
         "xaxis": "x",
         "y": [
          1
         ],
         "yaxis": "y"
        },
        {
         "alignmentgroup": "True",
         "hoverlabel": {
          "namelength": 0
         },
         "hovertemplate": "serviceproduct=Postfix smtpd<br>servicename=%{x}<br>count=%{y}",
         "legendgroup": "Postfix smtpd",
         "marker": {
          "color": "#00cc96"
         },
         "name": "Postfix smtpd",
         "offsetgroup": "Postfix smtpd",
         "orientation": "v",
         "showlegend": true,
         "textposition": "auto",
         "type": "bar",
         "x": [
          "smtp"
         ],
         "xaxis": "x",
         "y": [
          1
         ],
         "yaxis": "y"
        },
        {
         "alignmentgroup": "True",
         "hoverlabel": {
          "namelength": 0
         },
         "hovertemplate": "serviceproduct=WebSocket++<br>servicename=%{x}<br>count=%{y}",
         "legendgroup": "WebSocket++",
         "marker": {
          "color": "#ab63fa"
         },
         "name": "WebSocket++",
         "offsetgroup": "WebSocket++",
         "orientation": "v",
         "showlegend": true,
         "textposition": "auto",
         "type": "bar",
         "x": [
          "websocket"
         ],
         "xaxis": "x",
         "y": [
          1
         ],
         "yaxis": "y"
        }
       ],
       "layout": {
        "autosize": true,
        "barmode": "relative",
        "legend": {
         "title": {
          "text": "serviceproduct"
         },
         "tracegroupgap": 0
        },
        "margin": {
         "t": 60
        },
        "template": {
         "data": {
          "bar": [
           {
            "error_x": {
             "color": "#2a3f5f"
            },
            "error_y": {
             "color": "#2a3f5f"
            },
            "marker": {
             "line": {
              "color": "#E5ECF6",
              "width": 0.5
             }
            },
            "type": "bar"
           }
          ],
          "barpolar": [
           {
            "marker": {
             "line": {
              "color": "#E5ECF6",
              "width": 0.5
             }
            },
            "type": "barpolar"
           }
          ],
          "carpet": [
           {
            "aaxis": {
             "endlinecolor": "#2a3f5f",
             "gridcolor": "white",
             "linecolor": "white",
             "minorgridcolor": "white",
             "startlinecolor": "#2a3f5f"
            },
            "baxis": {
             "endlinecolor": "#2a3f5f",
             "gridcolor": "white",
             "linecolor": "white",
             "minorgridcolor": "white",
             "startlinecolor": "#2a3f5f"
            },
            "type": "carpet"
           }
          ],
          "choropleth": [
           {
            "colorbar": {
             "outlinewidth": 0,
             "ticks": ""
            },
            "type": "choropleth"
           }
          ],
          "contour": [
           {
            "colorbar": {
             "outlinewidth": 0,
             "ticks": ""
            },
            "colorscale": [
             [
              0,
              "#0d0887"
             ],
             [
              0.1111111111111111,
              "#46039f"
             ],
             [
              0.2222222222222222,
              "#7201a8"
             ],
             [
              0.3333333333333333,
              "#9c179e"
             ],
             [
              0.4444444444444444,
              "#bd3786"
             ],
             [
              0.5555555555555556,
              "#d8576b"
             ],
             [
              0.6666666666666666,
              "#ed7953"
             ],
             [
              0.7777777777777778,
              "#fb9f3a"
             ],
             [
              0.8888888888888888,
              "#fdca26"
             ],
             [
              1,
              "#f0f921"
             ]
            ],
            "type": "contour"
           }
          ],
          "contourcarpet": [
           {
            "colorbar": {
             "outlinewidth": 0,
             "ticks": ""
            },
            "type": "contourcarpet"
           }
          ],
          "heatmap": [
           {
            "colorbar": {
             "outlinewidth": 0,
             "ticks": ""
            },
            "colorscale": [
             [
              0,
              "#0d0887"
             ],
             [
              0.1111111111111111,
              "#46039f"
             ],
             [
              0.2222222222222222,
              "#7201a8"
             ],
             [
              0.3333333333333333,
              "#9c179e"
             ],
             [
              0.4444444444444444,
              "#bd3786"
             ],
             [
              0.5555555555555556,
              "#d8576b"
             ],
             [
              0.6666666666666666,
              "#ed7953"
             ],
             [
              0.7777777777777778,
              "#fb9f3a"
             ],
             [
              0.8888888888888888,
              "#fdca26"
             ],
             [
              1,
              "#f0f921"
             ]
            ],
            "type": "heatmap"
           }
          ],
          "heatmapgl": [
           {
            "colorbar": {
             "outlinewidth": 0,
             "ticks": ""
            },
            "colorscale": [
             [
              0,
              "#0d0887"
             ],
             [
              0.1111111111111111,
              "#46039f"
             ],
             [
              0.2222222222222222,
              "#7201a8"
             ],
             [
              0.3333333333333333,
              "#9c179e"
             ],
             [
              0.4444444444444444,
              "#bd3786"
             ],
             [
              0.5555555555555556,
              "#d8576b"
             ],
             [
              0.6666666666666666,
              "#ed7953"
             ],
             [
              0.7777777777777778,
              "#fb9f3a"
             ],
             [
              0.8888888888888888,
              "#fdca26"
             ],
             [
              1,
              "#f0f921"
             ]
            ],
            "type": "heatmapgl"
           }
          ],
          "histogram": [
           {
            "marker": {
             "colorbar": {
              "outlinewidth": 0,
              "ticks": ""
             }
            },
            "type": "histogram"
           }
          ],
          "histogram2d": [
           {
            "colorbar": {
             "outlinewidth": 0,
             "ticks": ""
            },
            "colorscale": [
             [
              0,
              "#0d0887"
             ],
             [
              0.1111111111111111,
              "#46039f"
             ],
             [
              0.2222222222222222,
              "#7201a8"
             ],
             [
              0.3333333333333333,
              "#9c179e"
             ],
             [
              0.4444444444444444,
              "#bd3786"
             ],
             [
              0.5555555555555556,
              "#d8576b"
             ],
             [
              0.6666666666666666,
              "#ed7953"
             ],
             [
              0.7777777777777778,
              "#fb9f3a"
             ],
             [
              0.8888888888888888,
              "#fdca26"
             ],
             [
              1,
              "#f0f921"
             ]
            ],
            "type": "histogram2d"
           }
          ],
          "histogram2dcontour": [
           {
            "colorbar": {
             "outlinewidth": 0,
             "ticks": ""
            },
            "colorscale": [
             [
              0,
              "#0d0887"
             ],
             [
              0.1111111111111111,
              "#46039f"
             ],
             [
              0.2222222222222222,
              "#7201a8"
             ],
             [
              0.3333333333333333,
              "#9c179e"
             ],
             [
              0.4444444444444444,
              "#bd3786"
             ],
             [
              0.5555555555555556,
              "#d8576b"
             ],
             [
              0.6666666666666666,
              "#ed7953"
             ],
             [
              0.7777777777777778,
              "#fb9f3a"
             ],
             [
              0.8888888888888888,
              "#fdca26"
             ],
             [
              1,
              "#f0f921"
             ]
            ],
            "type": "histogram2dcontour"
           }
          ],
          "mesh3d": [
           {
            "colorbar": {
             "outlinewidth": 0,
             "ticks": ""
            },
            "type": "mesh3d"
           }
          ],
          "parcoords": [
           {
            "line": {
             "colorbar": {
              "outlinewidth": 0,
              "ticks": ""
             }
            },
            "type": "parcoords"
           }
          ],
          "pie": [
           {
            "automargin": true,
            "type": "pie"
           }
          ],
          "scatter": [
           {
            "marker": {
             "colorbar": {
              "outlinewidth": 0,
              "ticks": ""
             }
            },
            "type": "scatter"
           }
          ],
          "scatter3d": [
           {
            "line": {
             "colorbar": {
              "outlinewidth": 0,
              "ticks": ""
             }
            },
            "marker": {
             "colorbar": {
              "outlinewidth": 0,
              "ticks": ""
             }
            },
            "type": "scatter3d"
           }
          ],
          "scattercarpet": [
           {
            "marker": {
             "colorbar": {
              "outlinewidth": 0,
              "ticks": ""
             }
            },
            "type": "scattercarpet"
           }
          ],
          "scattergeo": [
           {
            "marker": {
             "colorbar": {
              "outlinewidth": 0,
              "ticks": ""
             }
            },
            "type": "scattergeo"
           }
          ],
          "scattergl": [
           {
            "marker": {
             "colorbar": {
              "outlinewidth": 0,
              "ticks": ""
             }
            },
            "type": "scattergl"
           }
          ],
          "scattermapbox": [
           {
            "marker": {
             "colorbar": {
              "outlinewidth": 0,
              "ticks": ""
             }
            },
            "type": "scattermapbox"
           }
          ],
          "scatterpolar": [
           {
            "marker": {
             "colorbar": {
              "outlinewidth": 0,
              "ticks": ""
             }
            },
            "type": "scatterpolar"
           }
          ],
          "scatterpolargl": [
           {
            "marker": {
             "colorbar": {
              "outlinewidth": 0,
              "ticks": ""
             }
            },
            "type": "scatterpolargl"
           }
          ],
          "scatterternary": [
           {
            "marker": {
             "colorbar": {
              "outlinewidth": 0,
              "ticks": ""
             }
            },
            "type": "scatterternary"
           }
          ],
          "surface": [
           {
            "colorbar": {
             "outlinewidth": 0,
             "ticks": ""
            },
            "colorscale": [
             [
              0,
              "#0d0887"
             ],
             [
              0.1111111111111111,
              "#46039f"
             ],
             [
              0.2222222222222222,
              "#7201a8"
             ],
             [
              0.3333333333333333,
              "#9c179e"
             ],
             [
              0.4444444444444444,
              "#bd3786"
             ],
             [
              0.5555555555555556,
              "#d8576b"
             ],
             [
              0.6666666666666666,
              "#ed7953"
             ],
             [
              0.7777777777777778,
              "#fb9f3a"
             ],
             [
              0.8888888888888888,
              "#fdca26"
             ],
             [
              1,
              "#f0f921"
             ]
            ],
            "type": "surface"
           }
          ],
          "table": [
           {
            "cells": {
             "fill": {
              "color": "#EBF0F8"
             },
             "line": {
              "color": "white"
             }
            },
            "header": {
             "fill": {
              "color": "#C8D4E3"
             },
             "line": {
              "color": "white"
             }
            },
            "type": "table"
           }
          ]
         },
         "layout": {
          "annotationdefaults": {
           "arrowcolor": "#2a3f5f",
           "arrowhead": 0,
           "arrowwidth": 1
          },
          "coloraxis": {
           "colorbar": {
            "outlinewidth": 0,
            "ticks": ""
           }
          },
          "colorscale": {
           "diverging": [
            [
             0,
             "#8e0152"
            ],
            [
             0.1,
             "#c51b7d"
            ],
            [
             0.2,
             "#de77ae"
            ],
            [
             0.3,
             "#f1b6da"
            ],
            [
             0.4,
             "#fde0ef"
            ],
            [
             0.5,
             "#f7f7f7"
            ],
            [
             0.6,
             "#e6f5d0"
            ],
            [
             0.7,
             "#b8e186"
            ],
            [
             0.8,
             "#7fbc41"
            ],
            [
             0.9,
             "#4d9221"
            ],
            [
             1,
             "#276419"
            ]
           ],
           "sequential": [
            [
             0,
             "#0d0887"
            ],
            [
             0.1111111111111111,
             "#46039f"
            ],
            [
             0.2222222222222222,
             "#7201a8"
            ],
            [
             0.3333333333333333,
             "#9c179e"
            ],
            [
             0.4444444444444444,
             "#bd3786"
            ],
            [
             0.5555555555555556,
             "#d8576b"
            ],
            [
             0.6666666666666666,
             "#ed7953"
            ],
            [
             0.7777777777777778,
             "#fb9f3a"
            ],
            [
             0.8888888888888888,
             "#fdca26"
            ],
            [
             1,
             "#f0f921"
            ]
           ],
           "sequentialminus": [
            [
             0,
             "#0d0887"
            ],
            [
             0.1111111111111111,
             "#46039f"
            ],
            [
             0.2222222222222222,
             "#7201a8"
            ],
            [
             0.3333333333333333,
             "#9c179e"
            ],
            [
             0.4444444444444444,
             "#bd3786"
            ],
            [
             0.5555555555555556,
             "#d8576b"
            ],
            [
             0.6666666666666666,
             "#ed7953"
            ],
            [
             0.7777777777777778,
             "#fb9f3a"
            ],
            [
             0.8888888888888888,
             "#fdca26"
            ],
            [
             1,
             "#f0f921"
            ]
           ]
          },
          "colorway": [
           "#636efa",
           "#EF553B",
           "#00cc96",
           "#ab63fa",
           "#FFA15A",
           "#19d3f3",
           "#FF6692",
           "#B6E880",
           "#FF97FF",
           "#FECB52"
          ],
          "font": {
           "color": "#2a3f5f"
          },
          "geo": {
           "bgcolor": "white",
           "lakecolor": "white",
           "landcolor": "#E5ECF6",
           "showlakes": true,
           "showland": true,
           "subunitcolor": "white"
          },
          "hoverlabel": {
           "align": "left"
          },
          "hovermode": "closest",
          "mapbox": {
           "style": "light"
          },
          "paper_bgcolor": "white",
          "plot_bgcolor": "#E5ECF6",
          "polar": {
           "angularaxis": {
            "gridcolor": "white",
            "linecolor": "white",
            "ticks": ""
           },
           "bgcolor": "#E5ECF6",
           "radialaxis": {
            "gridcolor": "white",
            "linecolor": "white",
            "ticks": ""
           }
          },
          "scene": {
           "xaxis": {
            "backgroundcolor": "#E5ECF6",
            "gridcolor": "white",
            "gridwidth": 2,
            "linecolor": "white",
            "showbackground": true,
            "ticks": "",
            "zerolinecolor": "white"
           },
           "yaxis": {
            "backgroundcolor": "#E5ECF6",
            "gridcolor": "white",
            "gridwidth": 2,
            "linecolor": "white",
            "showbackground": true,
            "ticks": "",
            "zerolinecolor": "white"
           },
           "zaxis": {
            "backgroundcolor": "#E5ECF6",
            "gridcolor": "white",
            "gridwidth": 2,
            "linecolor": "white",
            "showbackground": true,
            "ticks": "",
            "zerolinecolor": "white"
           }
          },
          "shapedefaults": {
           "line": {
            "color": "#2a3f5f"
           }
          },
          "ternary": {
           "aaxis": {
            "gridcolor": "white",
            "linecolor": "white",
            "ticks": ""
           },
           "baxis": {
            "gridcolor": "white",
            "linecolor": "white",
            "ticks": ""
           },
           "bgcolor": "#E5ECF6",
           "caxis": {
            "gridcolor": "white",
            "linecolor": "white",
            "ticks": ""
           }
          },
          "title": {
           "x": 0.05
          },
          "xaxis": {
           "automargin": true,
           "gridcolor": "white",
           "linecolor": "white",
           "ticks": "",
           "title": {
            "standoff": 15
           },
           "zerolinecolor": "white",
           "zerolinewidth": 2
          },
          "yaxis": {
           "automargin": true,
           "gridcolor": "white",
           "linecolor": "white",
           "ticks": "",
           "title": {
            "standoff": 15
           },
           "zerolinecolor": "white",
           "zerolinewidth": 2
          }
         }
        },
        "xaxis": {
         "anchor": "y",
         "autorange": true,
         "domain": [
          0,
          1
         ],
         "range": [
          -0.5,
          28.5
         ],
         "title": {
          "text": "servicename"
         },
         "type": "category"
        },
        "yaxis": {
         "anchor": "x",
         "autorange": true,
         "domain": [
          0,
          1
         ],
         "range": [
          0,
          60
         ],
         "title": {
          "text": "count"
         },
         "type": "linear"
        }
       }
      },
      "image/png": "[encoded data removed]",
      "text/html": [
       "<div>\n",
       "        \n",
       "        \n",
       "            <div id=\"961bcf99-fb28-4153-bfe9-458f4182a00c\" class=\"plotly-graph-div\" style=\"height:525px; width:100%;\"></div>\n",
       "            <script type=\"text/javascript\">\n",
       "                require([\"plotly\"], function(Plotly) {\n",
       "                    window.PLOTLYENV=window.PLOTLYENV || {};\n",
       "                    \n",
       "                if (document.getElementById(\"961bcf99-fb28-4153-bfe9-458f4182a00c\")) {\n",
       "                    Plotly.newPlot(\n",
       "                        '961bcf99-fb28-4153-bfe9-458f4182a00c',\n",
       "                        [{\"alignmentgroup\": \"True\", \"hoverlabel\": {\"namelength\": 0}, \"hovertemplate\": \"serviceproduct=PowerDNS<br>servicename=%{x}<br>count=%{y}\", \"legendgroup\": \"PowerDNS\", \"marker\": {\"color\": \"#636efa\"}, \"name\": \"PowerDNS\", \"offsetgroup\": \"PowerDNS\", \"orientation\": \"v\", \"showlegend\": true, \"textposition\": \"auto\", \"type\": \"bar\", \"x\": [\"domain\", \"domain\", \"domain\"], \"xaxis\": \"x\", \"y\": [1, 1, 1], \"yaxis\": \"y\"}, {\"alignmentgroup\": \"True\", \"hoverlabel\": {\"namelength\": 0}, \"hovertemplate\": \"serviceproduct=Nagios NSCA<br>servicename=%{x}<br>count=%{y}\", \"legendgroup\": \"Nagios NSCA\", \"marker\": {\"color\": \"#EF553B\"}, \"name\": \"Nagios NSCA\", \"offsetgroup\": \"Nagios NSCA\", \"orientation\": \"v\", \"showlegend\": true, \"textposition\": \"auto\", \"type\": \"bar\", \"x\": [\"nagios-nsca\"], \"xaxis\": \"x\", \"y\": [1], \"yaxis\": \"y\"}, {\"alignmentgroup\": \"True\", \"hoverlabel\": {\"namelength\": 0}, \"hovertemplate\": \"serviceproduct=unknown<br>servicename=%{x}<br>count=%{y}\", \"legendgroup\": \"unknown\", \"marker\": {\"color\": \"#00cc96\"}, \"name\": \"unknown\", \"offsetgroup\": \"unknown\", \"orientation\": \"v\", \"showlegend\": true, \"textposition\": \"auto\", \"type\": \"bar\", \"x\": [\"ssl\", \"tcpwrapped\", \"ssl\", \"tcpwrapped\", \"ssl\", \"ssl\", \"ssl\", \"ssl\", \"ssl\", \"ssl\", \"ssl\", \"ssl\", \"ssl\", \"ssl\", \"ssl\", \"ssl\", \"ssl\", \"ssl\", \"ssl\", \"ssl\", \"rsf-1\", \"rsf-1\", \"servicetags\", \"gsql_trn\", \"status\", \"ttdbserverd\", \"rusersd\", \"unknown\", \"unknown\", \"servicetags\", \"gsql_trn\", \"status\", \"ssl\", \"ssl\", \"tcpwrapped\", \"ssl\", \"ssl\", \"ssl\", \"ssl\", \"ssl\", \"ssl\", \"ssl\", \"ssl\", \"ssl\", \"ssl\", \"ssl\", \"ssl\", \"stun\", \"tungsten-https\", \"ssl\", \"ssl\", \"ssl\", \"ssl\", \"ssl\", \"ssl\", \"ssl\", \"ssl\", \"ssl\", \"ssl\", \"imaps\", \"ssl\", \"scp-config\", \"ssl\", \"tcpwrapped\", \"ssl\", \"tcpwrapped\", \"ssl\", \"tcpwrapped\", \"onscreen\", \"unknown\", \"ssl\", \"ssl\", \"ssl\", \"ssl\", \"cleverdetect\", \"ssl\", \"ssl\", \"ssl\", \"ssl\", \"ssl\"], \"xaxis\": \"x\", \"y\": [1, 1, 1, 1, 1, 1, 1, 1, 1, 1, 1, 1, 1, 1, 1, 1, 1, 1, 1, 1, 1, 1, 1, 1, 1, 1, 1, 1, 1, 1, 1, 1, 1, 1, 1, 1, 1, 1, 1, 1, 1, 1, 1, 1, 1, 1, 1, 1, 1, 1, 1, 1, 1, 1, 1, 1, 1, 1, 1, 1, 1, 1, 1, 1, 1, 1, 1, 1, 1, 1, 1, 1, 1, 1, 1, 1, 1, 1, 1, 1], \"yaxis\": \"y\"}, {\"alignmentgroup\": \"True\", \"hoverlabel\": {\"namelength\": 0}, \"hovertemplate\": \"serviceproduct=NLnet Labs NSD<br>servicename=%{x}<br>count=%{y}\", \"legendgroup\": \"NLnet Labs NSD\", \"marker\": {\"color\": \"#ab63fa\"}, \"name\": \"NLnet Labs NSD\", \"offsetgroup\": \"NLnet Labs NSD\", \"orientation\": \"v\", \"showlegend\": true, \"textposition\": \"auto\", \"type\": \"bar\", \"x\": [\"domain\", \"domain\", \"domain\", \"domain\"], \"xaxis\": \"x\", \"y\": [1, 1, 1, 1], \"yaxis\": \"y\"}, {\"alignmentgroup\": \"True\", \"hoverlabel\": {\"namelength\": 0}, \"hovertemplate\": \"serviceproduct=nginx<br>servicename=%{x}<br>count=%{y}\", \"legendgroup\": \"nginx\", \"marker\": {\"color\": \"#FFA15A\"}, \"name\": \"nginx\", \"offsetgroup\": \"nginx\", \"orientation\": \"v\", \"showlegend\": true, \"textposition\": \"auto\", \"type\": \"bar\", \"x\": [\"http\", \"http\", \"http\", \"http\", \"http\", \"http\", \"http\", \"http\", \"http\", \"http\", \"http\"], \"xaxis\": \"x\", \"y\": [1, 1, 1, 1, 1, 1, 1, 1, 1, 1, 1], \"yaxis\": \"y\"}, {\"alignmentgroup\": \"True\", \"hoverlabel\": {\"namelength\": 0}, \"hovertemplate\": \"serviceproduct=Apache httpd<br>servicename=%{x}<br>count=%{y}\", \"legendgroup\": \"Apache httpd\", \"marker\": {\"color\": \"#19d3f3\"}, \"name\": \"Apache httpd\", \"offsetgroup\": \"Apache httpd\", \"orientation\": \"v\", \"showlegend\": true, \"textposition\": \"auto\", \"type\": \"bar\", \"x\": [\"http\", \"http\", \"http\", \"http\", \"http\", \"http\", \"http\", \"http\", \"http\", \"http\", \"http\", \"http\", \"http\", \"http\", \"http\", \"http\", \"http\", \"http\", \"http\", \"http\", \"http\", \"http\", \"http\", \"http\", \"http\", \"ssl\", \"http\", \"http\"], \"xaxis\": \"x\", \"y\": [1, 1, 1, 1, 1, 1, 1, 1, 1, 1, 1, 1, 1, 1, 1, 1, 1, 1, 1, 1, 1, 1, 1, 1, 1, 1, 1, 1], \"yaxis\": \"y\"}, {\"alignmentgroup\": \"True\", \"hoverlabel\": {\"namelength\": 0}, \"hovertemplate\": \"serviceproduct=Palo Alto GlobalProtect Gateway httpd<br>servicename=%{x}<br>count=%{y}\", \"legendgroup\": \"Palo Alto GlobalProtect Gateway httpd\", \"marker\": {\"color\": \"#FF6692\"}, \"name\": \"Palo Alto GlobalProtect Gateway httpd\", \"offsetgroup\": \"Palo Alto GlobalProtect Gateway httpd\", \"orientation\": \"v\", \"showlegend\": true, \"textposition\": \"auto\", \"type\": \"bar\", \"x\": [\"http\", \"http\", \"http\", \"http\", \"http\"], \"xaxis\": \"x\", \"y\": [1, 1, 1, 1, 1], \"yaxis\": \"y\"}, {\"alignmentgroup\": \"True\", \"hoverlabel\": {\"namelength\": 0}, \"hovertemplate\": \"serviceproduct=OpenSSH<br>servicename=%{x}<br>count=%{y}\", \"legendgroup\": \"OpenSSH\", \"marker\": {\"color\": \"#B6E880\"}, \"name\": \"OpenSSH\", \"offsetgroup\": \"OpenSSH\", \"orientation\": \"v\", \"showlegend\": true, \"textposition\": \"auto\", \"type\": \"bar\", \"x\": [\"ssh\", \"ssh\", \"ssh\", \"ssh\", \"ssh\", \"ssh\", \"ssh\", \"ssh\", \"ssh\", \"ssh\", \"ssh\", \"ssh\", \"ssh\", \"ssh\", \"ssh\", \"ssh\", \"ssh\", \"ssh\", \"ssh\", \"ssh\", \"ssh\", \"ssh\", \"ssh\", \"ssh\", \"ssh\", \"ssh\"], \"xaxis\": \"x\", \"y\": [1, 1, 1, 1, 1, 1, 1, 1, 1, 1, 1, 1, 1, 1, 1, 1, 1, 1, 1, 1, 1, 1, 1, 1, 1, 1], \"yaxis\": \"y\"}, {\"alignmentgroup\": \"True\", \"hoverlabel\": {\"namelength\": 0}, \"hovertemplate\": \"serviceproduct=Sun Solaris fs.auto<br>servicename=%{x}<br>count=%{y}\", \"legendgroup\": \"Sun Solaris fs.auto\", \"marker\": {\"color\": \"#FF97FF\"}, \"name\": \"Sun Solaris fs.auto\", \"offsetgroup\": \"Sun Solaris fs.auto\", \"orientation\": \"v\", \"showlegend\": true, \"textposition\": \"auto\", \"type\": \"bar\", \"x\": [\"font-service\"], \"xaxis\": \"x\", \"y\": [1], \"yaxis\": \"y\"}, {\"alignmentgroup\": \"True\", \"hoverlabel\": {\"namelength\": 0}, \"hovertemplate\": \"serviceproduct=CUPS<br>servicename=%{x}<br>count=%{y}\", \"legendgroup\": \"CUPS\", \"marker\": {\"color\": \"#FECB52\"}, \"name\": \"CUPS\", \"offsetgroup\": \"CUPS\", \"orientation\": \"v\", \"showlegend\": true, \"textposition\": \"auto\", \"type\": \"bar\", \"x\": [\"ipp\"], \"xaxis\": \"x\", \"y\": [1], \"yaxis\": \"y\"}, {\"alignmentgroup\": \"True\", \"hoverlabel\": {\"namelength\": 0}, \"hovertemplate\": \"serviceproduct=Microsoft Windows Active Directory LDAP<br>servicename=%{x}<br>count=%{y}\", \"legendgroup\": \"Microsoft Windows Active Directory LDAP\", \"marker\": {\"color\": \"#636efa\"}, \"name\": \"Microsoft Windows Active Directory LDAP\", \"offsetgroup\": \"Microsoft Windows Active Directory LDAP\", \"orientation\": \"v\", \"showlegend\": true, \"textposition\": \"auto\", \"type\": \"bar\", \"x\": [\"ldap\", \"ldap\"], \"xaxis\": \"x\", \"y\": [1, 1], \"yaxis\": \"y\"}, {\"alignmentgroup\": \"True\", \"hoverlabel\": {\"namelength\": 0}, \"hovertemplate\": \"serviceproduct=.NET Message Framing<br>servicename=%{x}<br>count=%{y}\", \"legendgroup\": \".NET Message Framing\", \"marker\": {\"color\": \"#EF553B\"}, \"name\": \".NET Message Framing\", \"offsetgroup\": \".NET Message Framing\", \"orientation\": \"v\", \"showlegend\": true, \"textposition\": \"auto\", \"type\": \"bar\", \"x\": [\"mc-nmf\", \"mc-nmf\"], \"xaxis\": \"x\", \"y\": [1, 1], \"yaxis\": \"y\"}, {\"alignmentgroup\": \"True\", \"hoverlabel\": {\"namelength\": 0}, \"hovertemplate\": \"serviceproduct=Microsoft Windows RPC<br>servicename=%{x}<br>count=%{y}\", \"legendgroup\": \"Microsoft Windows RPC\", \"marker\": {\"color\": \"#00cc96\"}, \"name\": \"Microsoft Windows RPC\", \"offsetgroup\": \"Microsoft Windows RPC\", \"orientation\": \"v\", \"showlegend\": true, \"textposition\": \"auto\", \"type\": \"bar\", \"x\": [\"msrpc\", \"msrpc\", \"msrpc\", \"msrpc\", \"msrpc\", \"msrpc\", \"msrpc\", \"msrpc\", \"msrpc\", \"msrpc\", \"msrpc\", \"msrpc\"], \"xaxis\": \"x\", \"y\": [1, 1, 1, 1, 1, 1, 1, 1, 1, 1, 1, 1], \"yaxis\": \"y\"}, {\"alignmentgroup\": \"True\", \"hoverlabel\": {\"namelength\": 0}, \"hovertemplate\": \"serviceproduct=Microsoft Windows RPC over HTTP<br>servicename=%{x}<br>count=%{y}\", \"legendgroup\": \"Microsoft Windows RPC over HTTP\", \"marker\": {\"color\": \"#ab63fa\"}, \"name\": \"Microsoft Windows RPC over HTTP\", \"offsetgroup\": \"Microsoft Windows RPC over HTTP\", \"orientation\": \"v\", \"showlegend\": true, \"textposition\": \"auto\", \"type\": \"bar\", \"x\": [\"ncacn_http\", \"ncacn_http\"], \"xaxis\": \"x\", \"y\": [1, 1], \"yaxis\": \"y\"}, {\"alignmentgroup\": \"True\", \"hoverlabel\": {\"namelength\": 0}, \"hovertemplate\": \"serviceproduct=OpenSSL<br>servicename=%{x}<br>count=%{y}\", \"legendgroup\": \"OpenSSL\", \"marker\": {\"color\": \"#FFA15A\"}, \"name\": \"OpenSSL\", \"offsetgroup\": \"OpenSSL\", \"orientation\": \"v\", \"showlegend\": true, \"textposition\": \"auto\", \"type\": \"bar\", \"x\": [\"ssl\"], \"xaxis\": \"x\", \"y\": [1], \"yaxis\": \"y\"}, {\"alignmentgroup\": \"True\", \"hoverlabel\": {\"namelength\": 0}, \"hovertemplate\": \"serviceproduct=xrdp<br>servicename=%{x}<br>count=%{y}\", \"legendgroup\": \"xrdp\", \"marker\": {\"color\": \"#19d3f3\"}, \"name\": \"xrdp\", \"offsetgroup\": \"xrdp\", \"orientation\": \"v\", \"showlegend\": true, \"textposition\": \"auto\", \"type\": \"bar\", \"x\": [\"ms-wbt-server\"], \"xaxis\": \"x\", \"y\": [1], \"yaxis\": \"y\"}, {\"alignmentgroup\": \"True\", \"hoverlabel\": {\"namelength\": 0}, \"hovertemplate\": \"serviceproduct=Apache Mina sshd<br>servicename=%{x}<br>count=%{y}\", \"legendgroup\": \"Apache Mina sshd\", \"marker\": {\"color\": \"#FF6692\"}, \"name\": \"Apache Mina sshd\", \"offsetgroup\": \"Apache Mina sshd\", \"orientation\": \"v\", \"showlegend\": true, \"textposition\": \"auto\", \"type\": \"bar\", \"x\": [\"ssh\"], \"xaxis\": \"x\", \"y\": [1], \"yaxis\": \"y\"}, {\"alignmentgroup\": \"True\", \"hoverlabel\": {\"namelength\": 0}, \"hovertemplate\": \"serviceproduct=vsftpd<br>servicename=%{x}<br>count=%{y}\", \"legendgroup\": \"vsftpd\", \"marker\": {\"color\": \"#B6E880\"}, \"name\": \"vsftpd\", \"offsetgroup\": \"vsftpd\", \"orientation\": \"v\", \"showlegend\": true, \"textposition\": \"auto\", \"type\": \"bar\", \"x\": [\"ftp\"], \"xaxis\": \"x\", \"y\": [1], \"yaxis\": \"y\"}, {\"alignmentgroup\": \"True\", \"hoverlabel\": {\"namelength\": 0}, \"hovertemplate\": \"serviceproduct=ProFTPD<br>servicename=%{x}<br>count=%{y}\", \"legendgroup\": \"ProFTPD\", \"marker\": {\"color\": \"#FF97FF\"}, \"name\": \"ProFTPD\", \"offsetgroup\": \"ProFTPD\", \"orientation\": \"v\", \"showlegend\": true, \"textposition\": \"auto\", \"type\": \"bar\", \"x\": [\"ftp\"], \"xaxis\": \"x\", \"y\": [1], \"yaxis\": \"y\"}, {\"alignmentgroup\": \"True\", \"hoverlabel\": {\"namelength\": 0}, \"hovertemplate\": \"serviceproduct=Microsoft IIS httpd<br>servicename=%{x}<br>count=%{y}\", \"legendgroup\": \"Microsoft IIS httpd\", \"marker\": {\"color\": \"#FECB52\"}, \"name\": \"Microsoft IIS httpd\", \"offsetgroup\": \"Microsoft IIS httpd\", \"orientation\": \"v\", \"showlegend\": true, \"textposition\": \"auto\", \"type\": \"bar\", \"x\": [\"http\", \"http\", \"http\"], \"xaxis\": \"x\", \"y\": [1, 1, 1], \"yaxis\": \"y\"}, {\"alignmentgroup\": \"True\", \"hoverlabel\": {\"namelength\": 0}, \"hovertemplate\": \"serviceproduct=Jetty<br>servicename=%{x}<br>count=%{y}\", \"legendgroup\": \"Jetty\", \"marker\": {\"color\": \"#636efa\"}, \"name\": \"Jetty\", \"offsetgroup\": \"Jetty\", \"orientation\": \"v\", \"showlegend\": true, \"textposition\": \"auto\", \"type\": \"bar\", \"x\": [\"http\"], \"xaxis\": \"x\", \"y\": [1], \"yaxis\": \"y\"}, {\"alignmentgroup\": \"True\", \"hoverlabel\": {\"namelength\": 0}, \"hovertemplate\": \"serviceproduct=Apache Tomcat/Coyote JSP engine<br>servicename=%{x}<br>count=%{y}\", \"legendgroup\": \"Apache Tomcat/Coyote JSP engine\", \"marker\": {\"color\": \"#EF553B\"}, \"name\": \"Apache Tomcat/Coyote JSP engine\", \"offsetgroup\": \"Apache Tomcat/Coyote JSP engine\", \"orientation\": \"v\", \"showlegend\": true, \"textposition\": \"auto\", \"type\": \"bar\", \"x\": [\"http\"], \"xaxis\": \"x\", \"y\": [1], \"yaxis\": \"y\"}, {\"alignmentgroup\": \"True\", \"hoverlabel\": {\"namelength\": 0}, \"hovertemplate\": \"serviceproduct=Postfix smtpd<br>servicename=%{x}<br>count=%{y}\", \"legendgroup\": \"Postfix smtpd\", \"marker\": {\"color\": \"#00cc96\"}, \"name\": \"Postfix smtpd\", \"offsetgroup\": \"Postfix smtpd\", \"orientation\": \"v\", \"showlegend\": true, \"textposition\": \"auto\", \"type\": \"bar\", \"x\": [\"smtp\"], \"xaxis\": \"x\", \"y\": [1], \"yaxis\": \"y\"}, {\"alignmentgroup\": \"True\", \"hoverlabel\": {\"namelength\": 0}, \"hovertemplate\": \"serviceproduct=WebSocket++<br>servicename=%{x}<br>count=%{y}\", \"legendgroup\": \"WebSocket++\", \"marker\": {\"color\": \"#ab63fa\"}, \"name\": \"WebSocket++\", \"offsetgroup\": \"WebSocket++\", \"orientation\": \"v\", \"showlegend\": true, \"textposition\": \"auto\", \"type\": \"bar\", \"x\": [\"websocket\"], \"xaxis\": \"x\", \"y\": [1], \"yaxis\": \"y\"}],\n",
       "                        {\"barmode\": \"relative\", \"legend\": {\"title\": {\"text\": \"serviceproduct\"}, \"tracegroupgap\": 0}, \"margin\": {\"t\": 60}, \"template\": {\"data\": {\"bar\": [{\"error_x\": {\"color\": \"#2a3f5f\"}, \"error_y\": {\"color\": \"#2a3f5f\"}, \"marker\": {\"line\": {\"color\": \"#E5ECF6\", \"width\": 0.5}}, \"type\": \"bar\"}], \"barpolar\": [{\"marker\": {\"line\": {\"color\": \"#E5ECF6\", \"width\": 0.5}}, \"type\": \"barpolar\"}], \"carpet\": [{\"aaxis\": {\"endlinecolor\": \"#2a3f5f\", \"gridcolor\": \"white\", \"linecolor\": \"white\", \"minorgridcolor\": \"white\", \"startlinecolor\": \"#2a3f5f\"}, \"baxis\": {\"endlinecolor\": \"#2a3f5f\", \"gridcolor\": \"white\", \"linecolor\": \"white\", \"minorgridcolor\": \"white\", \"startlinecolor\": \"#2a3f5f\"}, \"type\": \"carpet\"}], \"choropleth\": [{\"colorbar\": {\"outlinewidth\": 0, \"ticks\": \"\"}, \"type\": \"choropleth\"}], \"contour\": [{\"colorbar\": {\"outlinewidth\": 0, \"ticks\": \"\"}, \"colorscale\": [[0.0, \"#0d0887\"], [0.1111111111111111, \"#46039f\"], [0.2222222222222222, \"#7201a8\"], [0.3333333333333333, \"#9c179e\"], [0.4444444444444444, \"#bd3786\"], [0.5555555555555556, \"#d8576b\"], [0.6666666666666666, \"#ed7953\"], [0.7777777777777778, \"#fb9f3a\"], [0.8888888888888888, \"#fdca26\"], [1.0, \"#f0f921\"]], \"type\": \"contour\"}], \"contourcarpet\": [{\"colorbar\": {\"outlinewidth\": 0, \"ticks\": \"\"}, \"type\": \"contourcarpet\"}], \"heatmap\": [{\"colorbar\": {\"outlinewidth\": 0, \"ticks\": \"\"}, \"colorscale\": [[0.0, \"#0d0887\"], [0.1111111111111111, \"#46039f\"], [0.2222222222222222, \"#7201a8\"], [0.3333333333333333, \"#9c179e\"], [0.4444444444444444, \"#bd3786\"], [0.5555555555555556, \"#d8576b\"], [0.6666666666666666, \"#ed7953\"], [0.7777777777777778, \"#fb9f3a\"], [0.8888888888888888, \"#fdca26\"], [1.0, \"#f0f921\"]], \"type\": \"heatmap\"}], \"heatmapgl\": [{\"colorbar\": {\"outlinewidth\": 0, \"ticks\": \"\"}, \"colorscale\": [[0.0, \"#0d0887\"], [0.1111111111111111, \"#46039f\"], [0.2222222222222222, \"#7201a8\"], [0.3333333333333333, \"#9c179e\"], [0.4444444444444444, \"#bd3786\"], [0.5555555555555556, \"#d8576b\"], [0.6666666666666666, \"#ed7953\"], [0.7777777777777778, \"#fb9f3a\"], [0.8888888888888888, \"#fdca26\"], [1.0, \"#f0f921\"]], \"type\": \"heatmapgl\"}], \"histogram\": [{\"marker\": {\"colorbar\": {\"outlinewidth\": 0, \"ticks\": \"\"}}, \"type\": \"histogram\"}], \"histogram2d\": [{\"colorbar\": {\"outlinewidth\": 0, \"ticks\": \"\"}, \"colorscale\": [[0.0, \"#0d0887\"], [0.1111111111111111, \"#46039f\"], [0.2222222222222222, \"#7201a8\"], [0.3333333333333333, \"#9c179e\"], [0.4444444444444444, \"#bd3786\"], [0.5555555555555556, \"#d8576b\"], [0.6666666666666666, \"#ed7953\"], [0.7777777777777778, \"#fb9f3a\"], [0.8888888888888888, \"#fdca26\"], [1.0, \"#f0f921\"]], \"type\": \"histogram2d\"}], \"histogram2dcontour\": [{\"colorbar\": {\"outlinewidth\": 0, \"ticks\": \"\"}, \"colorscale\": [[0.0, \"#0d0887\"], [0.1111111111111111, \"#46039f\"], [0.2222222222222222, \"#7201a8\"], [0.3333333333333333, \"#9c179e\"], [0.4444444444444444, \"#bd3786\"], [0.5555555555555556, \"#d8576b\"], [0.6666666666666666, \"#ed7953\"], [0.7777777777777778, \"#fb9f3a\"], [0.8888888888888888, \"#fdca26\"], [1.0, \"#f0f921\"]], \"type\": \"histogram2dcontour\"}], \"mesh3d\": [{\"colorbar\": {\"outlinewidth\": 0, \"ticks\": \"\"}, \"type\": \"mesh3d\"}], \"parcoords\": [{\"line\": {\"colorbar\": {\"outlinewidth\": 0, \"ticks\": \"\"}}, \"type\": \"parcoords\"}], \"pie\": [{\"automargin\": true, \"type\": \"pie\"}], \"scatter\": [{\"marker\": {\"colorbar\": {\"outlinewidth\": 0, \"ticks\": \"\"}}, \"type\": \"scatter\"}], \"scatter3d\": [{\"line\": {\"colorbar\": {\"outlinewidth\": 0, \"ticks\": \"\"}}, \"marker\": {\"colorbar\": {\"outlinewidth\": 0, \"ticks\": \"\"}}, \"type\": \"scatter3d\"}], \"scattercarpet\": [{\"marker\": {\"colorbar\": {\"outlinewidth\": 0, \"ticks\": \"\"}}, \"type\": \"scattercarpet\"}], \"scattergeo\": [{\"marker\": {\"colorbar\": {\"outlinewidth\": 0, \"ticks\": \"\"}}, \"type\": \"scattergeo\"}], \"scattergl\": [{\"marker\": {\"colorbar\": {\"outlinewidth\": 0, \"ticks\": \"\"}}, \"type\": \"scattergl\"}], \"scattermapbox\": [{\"marker\": {\"colorbar\": {\"outlinewidth\": 0, \"ticks\": \"\"}}, \"type\": \"scattermapbox\"}], \"scatterpolar\": [{\"marker\": {\"colorbar\": {\"outlinewidth\": 0, \"ticks\": \"\"}}, \"type\": \"scatterpolar\"}], \"scatterpolargl\": [{\"marker\": {\"colorbar\": {\"outlinewidth\": 0, \"ticks\": \"\"}}, \"type\": \"scatterpolargl\"}], \"scatterternary\": [{\"marker\": {\"colorbar\": {\"outlinewidth\": 0, \"ticks\": \"\"}}, \"type\": \"scatterternary\"}], \"surface\": [{\"colorbar\": {\"outlinewidth\": 0, \"ticks\": \"\"}, \"colorscale\": [[0.0, \"#0d0887\"], [0.1111111111111111, \"#46039f\"], [0.2222222222222222, \"#7201a8\"], [0.3333333333333333, \"#9c179e\"], [0.4444444444444444, \"#bd3786\"], [0.5555555555555556, \"#d8576b\"], [0.6666666666666666, \"#ed7953\"], [0.7777777777777778, \"#fb9f3a\"], [0.8888888888888888, \"#fdca26\"], [1.0, \"#f0f921\"]], \"type\": \"surface\"}], \"table\": [{\"cells\": {\"fill\": {\"color\": \"#EBF0F8\"}, \"line\": {\"color\": \"white\"}}, \"header\": {\"fill\": {\"color\": \"#C8D4E3\"}, \"line\": {\"color\": \"white\"}}, \"type\": \"table\"}]}, \"layout\": {\"annotationdefaults\": {\"arrowcolor\": \"#2a3f5f\", \"arrowhead\": 0, \"arrowwidth\": 1}, \"coloraxis\": {\"colorbar\": {\"outlinewidth\": 0, \"ticks\": \"\"}}, \"colorscale\": {\"diverging\": [[0, \"#8e0152\"], [0.1, \"#c51b7d\"], [0.2, \"#de77ae\"], [0.3, \"#f1b6da\"], [0.4, \"#fde0ef\"], [0.5, \"#f7f7f7\"], [0.6, \"#e6f5d0\"], [0.7, \"#b8e186\"], [0.8, \"#7fbc41\"], [0.9, \"#4d9221\"], [1, \"#276419\"]], \"sequential\": [[0.0, \"#0d0887\"], [0.1111111111111111, \"#46039f\"], [0.2222222222222222, \"#7201a8\"], [0.3333333333333333, \"#9c179e\"], [0.4444444444444444, \"#bd3786\"], [0.5555555555555556, \"#d8576b\"], [0.6666666666666666, \"#ed7953\"], [0.7777777777777778, \"#fb9f3a\"], [0.8888888888888888, \"#fdca26\"], [1.0, \"#f0f921\"]], \"sequentialminus\": [[0.0, \"#0d0887\"], [0.1111111111111111, \"#46039f\"], [0.2222222222222222, \"#7201a8\"], [0.3333333333333333, \"#9c179e\"], [0.4444444444444444, \"#bd3786\"], [0.5555555555555556, \"#d8576b\"], [0.6666666666666666, \"#ed7953\"], [0.7777777777777778, \"#fb9f3a\"], [0.8888888888888888, \"#fdca26\"], [1.0, \"#f0f921\"]]}, \"colorway\": [\"#636efa\", \"#EF553B\", \"#00cc96\", \"#ab63fa\", \"#FFA15A\", \"#19d3f3\", \"#FF6692\", \"#B6E880\", \"#FF97FF\", \"#FECB52\"], \"font\": {\"color\": \"#2a3f5f\"}, \"geo\": {\"bgcolor\": \"white\", \"lakecolor\": \"white\", \"landcolor\": \"#E5ECF6\", \"showlakes\": true, \"showland\": true, \"subunitcolor\": \"white\"}, \"hoverlabel\": {\"align\": \"left\"}, \"hovermode\": \"closest\", \"mapbox\": {\"style\": \"light\"}, \"paper_bgcolor\": \"white\", \"plot_bgcolor\": \"#E5ECF6\", \"polar\": {\"angularaxis\": {\"gridcolor\": \"white\", \"linecolor\": \"white\", \"ticks\": \"\"}, \"bgcolor\": \"#E5ECF6\", \"radialaxis\": {\"gridcolor\": \"white\", \"linecolor\": \"white\", \"ticks\": \"\"}}, \"scene\": {\"xaxis\": {\"backgroundcolor\": \"#E5ECF6\", \"gridcolor\": \"white\", \"gridwidth\": 2, \"linecolor\": \"white\", \"showbackground\": true, \"ticks\": \"\", \"zerolinecolor\": \"white\"}, \"yaxis\": {\"backgroundcolor\": \"#E5ECF6\", \"gridcolor\": \"white\", \"gridwidth\": 2, \"linecolor\": \"white\", \"showbackground\": true, \"ticks\": \"\", \"zerolinecolor\": \"white\"}, \"zaxis\": {\"backgroundcolor\": \"#E5ECF6\", \"gridcolor\": \"white\", \"gridwidth\": 2, \"linecolor\": \"white\", \"showbackground\": true, \"ticks\": \"\", \"zerolinecolor\": \"white\"}}, \"shapedefaults\": {\"line\": {\"color\": \"#2a3f5f\"}}, \"ternary\": {\"aaxis\": {\"gridcolor\": \"white\", \"linecolor\": \"white\", \"ticks\": \"\"}, \"baxis\": {\"gridcolor\": \"white\", \"linecolor\": \"white\", \"ticks\": \"\"}, \"bgcolor\": \"#E5ECF6\", \"caxis\": {\"gridcolor\": \"white\", \"linecolor\": \"white\", \"ticks\": \"\"}}, \"title\": {\"x\": 0.05}, \"xaxis\": {\"automargin\": true, \"gridcolor\": \"white\", \"linecolor\": \"white\", \"ticks\": \"\", \"title\": {\"standoff\": 15}, \"zerolinecolor\": \"white\", \"zerolinewidth\": 2}, \"yaxis\": {\"automargin\": true, \"gridcolor\": \"white\", \"linecolor\": \"white\", \"ticks\": \"\", \"title\": {\"standoff\": 15}, \"zerolinecolor\": \"white\", \"zerolinewidth\": 2}}}, \"xaxis\": {\"anchor\": \"y\", \"domain\": [0.0, 1.0], \"title\": {\"text\": \"servicename\"}}, \"yaxis\": {\"anchor\": \"x\", \"domain\": [0.0, 1.0], \"title\": {\"text\": \"count\"}}},\n",
       "                        {\"responsive\": true}\n",
       "                    ).then(function(){\n",
       "                            \n",
       "var gd = document.getElementById('961bcf99-fb28-4153-bfe9-458f4182a00c');\n",
       "var x = new MutationObserver(function (mutations, observer) {{\n",
       "        var display = window.getComputedStyle(gd).display;\n",
       "        if (!display || display === 'none') {{\n",
       "            console.log([gd, 'removed!']);\n",
       "            Plotly.purge(gd);\n",
       "            observer.disconnect();\n",
       "        }}\n",
       "}});\n",
       "\n",
       "// Listen for the removal of the full notebook cells\n",
       "var notebookContainer = gd.closest('#notebook-container');\n",
       "if (notebookContainer) {{\n",
       "    x.observe(notebookContainer, {childList: true});\n",
       "}}\n",
       "\n",
       "// Listen for the clearing of the current output cell\n",
       "var outputEl = gd.closest('.output');\n",
       "if (outputEl) {{\n",
       "    x.observe(outputEl, {childList: true});\n",
       "}}\n",
       "\n",
       "                        })\n",
       "                };\n",
       "                });\n",
       "            </script>\n",
       "        </div>"
      ]
     },
     "metadata": {},
     "output_type": "display_data"
    }
   ],
   "source": [
    "fig = px.bar(nmap_df, x='servicename', y='count', color ='serviceproduct')\n",
    "fig.show()"
   ]
  },
  {
   "cell_type": "markdown",
   "metadata": {},
   "source": [
    "# Graph Visualisierung Services und IPs"
   ]
  },
  {
   "cell_type": "code",
   "execution_count": 58,
   "metadata": {
    "ExecuteTime": {
     "end_time": "2021-06-25T09:30:00.106798Z",
     "start_time": "2021-06-25T09:29:58.182741Z"
    }
   },
   "outputs": [],
   "source": [
    "graph = Graph(\"http://172.17.0.1:7474/\", password=\"start123\")\n",
    "graph.delete_all()"
   ]
  },
  {
   "cell_type": "code",
   "execution_count": 59,
   "metadata": {
    "ExecuteTime": {
     "end_time": "2021-06-25T09:56:12.930052Z",
     "start_time": "2021-06-25T09:56:09.096220Z"
    }
   },
   "outputs": [],
   "source": [
    "graph.delete_all()\n",
    "ip_dict = {}\n",
    "domain_dict = {}\n",
    "param = \"servicename\"\n",
    "\n",
    "for index, row in nmap_df.iterrows():\n",
    "    node = Node(\"Host\", \n",
    "                name=row[\"address\"],\n",
    "                description=f\"Host<br>{row['address']}\",\n",
    "                color=\"lime\")\n",
    "    graph.create(node)\n",
    "    domain_dict[row[\"address\"]] = node\n",
    "    \n",
    "    if row[param] not in domain_dict.keys():\n",
    "        node = Node(param, \n",
    "                    name=row[param],\n",
    "                    description=f\"param<br>{row[param]}\",\n",
    "                    color=\"lime\")\n",
    "        graph.create(node)\n",
    "        domain_dict[row[param]] = node\n",
    "\n",
    "\n",
    "for index, row in nmap_df.iterrows():\n",
    "    graph.create(Relationship(domain_dict[row[\"address\"]], \n",
    "                              \"belongs_to\",\n",
    "                              domain_dict[row[param]]))"
   ]
  },
  {
   "cell_type": "code",
   "execution_count": 60,
   "metadata": {
    "ExecuteTime": {
     "end_time": "2021-06-25T09:56:16.487082Z",
     "start_time": "2021-06-25T09:56:13.627194Z"
    }
   },
   "outputs": [
    {
     "data": {
      "text/html": [
       "\n",
       "        <iframe\n",
       "            width=\"100%\"\n",
       "            height=\"400\"\n",
       "            src=\"figure/graph-315babca-b443-40e0-bc1c-495b02b884b5.html\"\n",
       "            frameborder=\"0\"\n",
       "            allowfullscreen\n",
       "        ></iframe>\n",
       "        "
      ],
      "text/plain": [
       "<IPython.lib.display.IFrame at 0x7f521713cc10>"
      ]
     },
     "execution_count": 60,
     "metadata": {},
     "output_type": "execute_result"
    }
   ],
   "source": [
    "output = draw(graph, physics=True, physics_model=\"forcedAtlas2Based\")\n",
    "output[0][0]"
   ]
  },
  {
   "cell_type": "code",
   "execution_count": 61,
   "metadata": {},
   "outputs": [
    {
     "data": {
      "text/html": [
       "<a href=http://127.0.0.1:8080/files/Talk-Recon-At-Scale-and-Viz/visualisation/figure/graph-315babca-b443-40e0-bc1c-495b02b884b5.html> Click to download graph</a>"
      ],
      "text/plain": [
       "<IPython.core.display.HTML object>"
      ]
     },
     "metadata": {},
     "output_type": "display_data"
    }
   ],
   "source": [
    "display(HTML(f'<a href={output[0][1]}> Click to download graph</a>'))"
   ]
  },
  {
   "cell_type": "markdown",
   "metadata": {},
   "source": [
    "# Graph Visualisierung Services, IPs und Subdomains"
   ]
  },
  {
   "cell_type": "code",
   "execution_count": 62,
   "metadata": {
    "ExecuteTime": {
     "end_time": "2021-06-25T10:32:11.758215Z",
     "start_time": "2021-06-25T10:32:11.665311Z"
    }
   },
   "outputs": [
    {
     "data": {
      "text/html": [
       "<div>\n",
       "<style scoped>\n",
       "    .dataframe tbody tr th:only-of-type {\n",
       "        vertical-align: middle;\n",
       "    }\n",
       "\n",
       "    .dataframe tbody tr th {\n",
       "        vertical-align: top;\n",
       "    }\n",
       "\n",
       "    .dataframe thead th {\n",
       "        text-align: right;\n",
       "    }\n",
       "</style>\n",
       "<table border=\"1\" class=\"dataframe\">\n",
       "  <thead>\n",
       "    <tr style=\"text-align: right;\">\n",
       "      <th></th>\n",
       "      <th>domainname</th>\n",
       "      <th>ips</th>\n",
       "    </tr>\n",
       "  </thead>\n",
       "  <tbody>\n",
       "    <tr>\n",
       "      <th>0</th>\n",
       "      <td>autodiscover.hsu-hh.de</td>\n",
       "      <td>139.11.9.20</td>\n",
       "    </tr>\n",
       "    <tr>\n",
       "      <th>1</th>\n",
       "      <td>autoconfig.hsu-hh.de</td>\n",
       "      <td>139.11.6.20</td>\n",
       "    </tr>\n",
       "    <tr>\n",
       "      <th>2</th>\n",
       "      <td>fueak.hsu-hh.de</td>\n",
       "      <td>139.11.81.160</td>\n",
       "    </tr>\n",
       "    <tr>\n",
       "      <th>3</th>\n",
       "      <td>meetings.hsu-hh.de</td>\n",
       "      <td>139.11.11.50</td>\n",
       "    </tr>\n",
       "    <tr>\n",
       "      <th>4</th>\n",
       "      <td>campus.hsu-hh.de</td>\n",
       "      <td>139.11.9.55</td>\n",
       "    </tr>\n",
       "  </tbody>\n",
       "</table>\n",
       "</div>"
      ],
      "text/plain": [
       "               domainname            ips\n",
       "0  autodiscover.hsu-hh.de    139.11.9.20\n",
       "1    autoconfig.hsu-hh.de    139.11.6.20\n",
       "2         fueak.hsu-hh.de  139.11.81.160\n",
       "3      meetings.hsu-hh.de   139.11.11.50\n",
       "4        campus.hsu-hh.de    139.11.9.55"
      ]
     },
     "execution_count": 62,
     "metadata": {},
     "output_type": "execute_result"
    }
   ],
   "source": [
    "subdomain_df = convert_subdomain(\"data/all_subdomains_hsu-hh.de.txt\")\n",
    "subdomain_df.head()"
   ]
  },
  {
   "cell_type": "code",
   "execution_count": 63,
   "metadata": {
    "ExecuteTime": {
     "end_time": "2021-06-25T10:40:14.701005Z",
     "start_time": "2021-06-25T10:40:04.114955Z"
    }
   },
   "outputs": [],
   "source": [
    "graph.delete_all()\n",
    "domain_dict = {}\n",
    "param = \"servicename\"\n",
    "\n",
    "for index, row in subdomain_df.iterrows():\n",
    "    node = Node(\"Host\", \n",
    "                name=row[\"domainname\"],\n",
    "                description=\"Webserver\",\n",
    "                color=\"lime\")\n",
    "    graph.create(node)\n",
    "    domain_dict[row[\"domainname\"]] = node\n",
    "   \n",
    "       \n",
    "    if row['ips'] not in domain_dict.keys():\n",
    "        node = Node(\"IP\", \n",
    "                    name=row['ips'], \n",
    "                    description=\"IP Address\",\n",
    "                    color=\"blue\")\n",
    "        graph.create(node)\n",
    "        domain_dict[row[\"ips\"]] = node\n",
    "        \n",
    "for index, row in nmap_df.iterrows():\n",
    "    if row[\"address\"] not in domain_dict.keys():\n",
    "        node = Node(\"IP\", \n",
    "                    name=row[\"address\"],\n",
    "                    description=f\"Host<br>{row['address']}\",\n",
    "                    color=\"lime\")\n",
    "        graph.create(node)\n",
    "        domain_dict[row[\"address\"]] = node\n",
    "    \n",
    "    if row[param] not in domain_dict.keys():\n",
    "        node = Node(param, \n",
    "                    name=row[param],\n",
    "                    description=f\"param<br>{row[param]}\",\n",
    "                    color=\"lime\")\n",
    "        graph.create(node)\n",
    "        domain_dict[row[param]] = node\n",
    "        \n",
    "\n",
    "        \n",
    "for index, row in subdomain_df.iterrows():\n",
    "    graph.create(Relationship(domain_dict[row[\"domainname\"]], \n",
    "                              \"belongs_to\",\n",
    "                              domain_dict[row[\"ips\"]]))\n",
    "    \n",
    "for index, row in nmap_df.iterrows():\n",
    "    graph.create(Relationship(domain_dict[row[\"address\"]], \n",
    "                              \"belongs_to\",\n",
    "                              domain_dict[row[param]]))"
   ]
  },
  {
   "cell_type": "code",
   "execution_count": 64,
   "metadata": {
    "ExecuteTime": {
     "end_time": "2021-06-25T10:41:01.079484Z",
     "start_time": "2021-06-25T10:40:51.589065Z"
    }
   },
   "outputs": [
    {
     "data": {
      "text/html": [
       "\n",
       "        <iframe\n",
       "            width=\"100%\"\n",
       "            height=\"400\"\n",
       "            src=\"figure/graph-dee59459-9879-4e73-b204-c2c23bed1199.html\"\n",
       "            frameborder=\"0\"\n",
       "            allowfullscreen\n",
       "        ></iframe>\n",
       "        "
      ],
      "text/plain": [
       "<IPython.lib.display.IFrame at 0x7f5216f45cd0>"
      ]
     },
     "execution_count": 64,
     "metadata": {},
     "output_type": "execute_result"
    }
   ],
   "source": [
    "output = draw(graph, physics=True, physics_model=\"forcedAtlas2Based\")\n",
    "output[0][0]"
   ]
  },
  {
   "cell_type": "code",
   "execution_count": 65,
   "metadata": {},
   "outputs": [
    {
     "data": {
      "text/html": [
       "<a href=http://127.0.0.1:8080/files/Talk-Recon-At-Scale-and-Viz/visualisation/figure/graph-dee59459-9879-4e73-b204-c2c23bed1199.html> Click to download graph</a>"
      ],
      "text/plain": [
       "<IPython.core.display.HTML object>"
      ]
     },
     "metadata": {},
     "output_type": "display_data"
    }
   ],
   "source": [
    "display(HTML(f'<a href={output[0][1]}> Click to download graph</a>'))"
   ]
  },
  {
   "cell_type": "code",
   "execution_count": null,
   "metadata": {},
   "outputs": [],
   "source": []
  }
 ],
 "metadata": {
  "kernelspec": {
   "display_name": "Python 3",
   "language": "python",
   "name": "python3"
  },
  "language_info": {
   "codemirror_mode": {
    "name": "ipython",
    "version": 3
   },
   "file_extension": ".py",
   "mimetype": "text/x-python",
   "name": "python",
   "nbconvert_exporter": "python",
   "pygments_lexer": "ipython3",
   "version": "3.7.6"
  },
  "toc": {
   "base_numbering": 1,
   "nav_menu": {},
   "number_sections": false,
   "sideBar": true,
   "skip_h1_title": false,
   "title_cell": "Table of Contents",
   "title_sidebar": "Contents",
   "toc_cell": false,
   "toc_position": {},
   "toc_section_display": true,
   "toc_window_display": false
  }
 },
 "nbformat": 4,
 "nbformat_minor": 4
}
